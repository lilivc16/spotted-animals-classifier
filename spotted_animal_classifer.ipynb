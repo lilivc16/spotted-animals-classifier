{
  "nbformat": 4,
  "nbformat_minor": 0,
  "metadata": {
    "colab": {
      "name": "spotted-animal-classifer.ipynb",
      "provenance": [],
      "toc_visible": true,
      "authorship_tag": "ABX9TyNh6hexz+cALlOG+7a8Mhq0",
      "include_colab_link": true
    },
    "kernelspec": {
      "name": "python3",
      "display_name": "Python 3"
    },
    "widgets": {
      "application/vnd.jupyter.widget-state+json": {
        "ed813e30823d4df688147ec7db775a04": {
          "model_module": "@jupyter-widgets/controls",
          "model_name": "VBoxModel",
          "state": {
            "_view_name": "VBoxView",
            "_dom_classes": [],
            "_model_name": "VBoxModel",
            "_view_module": "@jupyter-widgets/controls",
            "_model_module_version": "1.5.0",
            "_view_count": null,
            "_view_module_version": "1.5.0",
            "box_style": "",
            "layout": "IPY_MODEL_52ef7443fd83436ab9cef586cfff9456",
            "_model_module": "@jupyter-widgets/controls",
            "children": [
              "IPY_MODEL_142621fe4dbe4856871569f565704a48",
              "IPY_MODEL_78d70a99fe1041bda57d533d71071802",
              "IPY_MODEL_ad0440026e7540979579821a10b85c52",
              "IPY_MODEL_66fa2d8b4e3e49d29d1468c28b76f639"
            ]
          }
        },
        "52ef7443fd83436ab9cef586cfff9456": {
          "model_module": "@jupyter-widgets/base",
          "model_name": "LayoutModel",
          "state": {
            "_view_name": "LayoutView",
            "grid_template_rows": null,
            "right": null,
            "justify_content": null,
            "_view_module": "@jupyter-widgets/base",
            "overflow": null,
            "_model_module_version": "1.2.0",
            "_view_count": null,
            "flex_flow": null,
            "width": null,
            "min_width": null,
            "border": null,
            "align_items": null,
            "bottom": null,
            "_model_module": "@jupyter-widgets/base",
            "top": null,
            "grid_column": null,
            "overflow_y": null,
            "overflow_x": null,
            "grid_auto_flow": null,
            "grid_area": null,
            "grid_template_columns": null,
            "flex": null,
            "_model_name": "LayoutModel",
            "justify_items": null,
            "grid_row": null,
            "max_height": null,
            "align_content": null,
            "visibility": null,
            "align_self": null,
            "height": null,
            "min_height": null,
            "padding": null,
            "grid_auto_rows": null,
            "grid_gap": null,
            "max_width": null,
            "order": null,
            "_view_module_version": "1.2.0",
            "grid_template_areas": null,
            "object_position": null,
            "object_fit": null,
            "grid_auto_columns": null,
            "margin": null,
            "display": null,
            "left": null
          }
        },
        "142621fe4dbe4856871569f565704a48": {
          "model_module": "@jupyter-widgets/controls",
          "model_name": "LabelModel",
          "state": {
            "_view_name": "LabelView",
            "style": "IPY_MODEL_ee41b422d9d1458f9744bc86c8c2b530",
            "_dom_classes": [],
            "description": "",
            "_model_name": "LabelModel",
            "placeholder": "​",
            "_view_module": "@jupyter-widgets/controls",
            "_model_module_version": "1.5.0",
            "value": "Select a photo!",
            "_view_count": null,
            "_view_module_version": "1.5.0",
            "description_tooltip": null,
            "_model_module": "@jupyter-widgets/controls",
            "layout": "IPY_MODEL_1ec292a0f5274973847b14307df51686"
          }
        },
        "78d70a99fe1041bda57d533d71071802": {
          "model_module": "@jupyter-widgets/controls",
          "model_name": "FileUploadModel",
          "state": {
            "_view_name": "FileUploadView",
            "_counter": 1,
            "style": "IPY_MODEL_05e68b9ad6234f43b7a33a0d3b955893",
            "_dom_classes": [],
            "description": "Upload",
            "multiple": false,
            "_model_name": "FileUploadModel",
            "data": [
              null
            ],
            "button_style": "",
            "_view_module": "@jupyter-widgets/controls",
            "_model_module_version": "1.5.0",
            "accept": "",
            "_view_count": null,
            "disabled": false,
            "_view_module_version": "1.5.0",
            "error": "",
            "description_tooltip": null,
            "metadata": [
              {
                "name": "Bear-by-pine.jpg",
                "type": "image/jpeg",
                "size": 340576,
                "lastModified": 1601999365065
              }
            ],
            "_model_module": "@jupyter-widgets/controls",
            "layout": "IPY_MODEL_1dd31eb3b0b54d8fbce04a59f360b3af",
            "icon": "upload"
          }
        },
        "ad0440026e7540979579821a10b85c52": {
          "model_module": "@jupyter-widgets/output",
          "model_name": "OutputModel",
          "state": {
            "_view_name": "OutputView",
            "msg_id": "",
            "_dom_classes": [],
            "_model_name": "OutputModel",
            "outputs": [
              {
                "output_type": "display_data",
                "metadata": {
                  "tags": []
                },
                "image/png": "iVBORw0KGgoAAAANSUhEUgAAAGYAAACACAIAAAB2oIuqAAB1k0lEQVR4nGT9V8wkWZYmiF1p2sy1+69VaJU6sypLd1V1dc/WzHT3iN0ZLLBcAgRI7AMBgg8E9o3DB3KxAAGCS8xyd4dLssFZ9ujpmerumhJdWVWZWakjM7T6tXJt2uxqPnhGdM3QEHCYBzwA9y/OPec73/nuNfjJk8/z0b2nn71/fHL0d//wd//xv/ro9a+88sU777/99/93r7zyquICY4AAwAj4lFAIjTEQQmmMMRAicHD82ef3fnI8uo/B7u4p3Lj4BysbX4vog9sf/o8+1rWgo/x6c+mrgBoP8lduvnHj0k1tNAIQE0gRGc4P7rz/X1GvGwRr8fmP/aiTT+F772Sffn4sofwv/8F/DquPirq2Bn/zzZf+ILQtbYwGQAMDIFi8QAgwQIubz97915/+4k+jqP+bz5+sdpuEgumcff2ti4O1zaKq/8//8F/88Jsv76wP/sVPP/Mc5Fuk3WpNzsff+ebNf/zjj58+Ow8jb7kdEaSzkgngaKXPRxPHtS1sSykxNZdvXPs//Vf/NbnzwY/Xt9FgYGe5ez4aN0M6PBtGgV+mCYQAAKC0AdBgiMG/fxkENAAaYa0Tz07LXAHuYozGpx+9//Q3kImLq3R4yiut7Hx669WvfeXGjX7gT8r0dLgHoOXYYehaxfQZUoqlT035OC+rWZrrDK+1w/NOcDqLs7N3pR6dj1On/vyrr/9dBAEEBgKIAAQAGmAgAPDF9wGA1QWXvC6TN29dNIqfzeZZXte1CVzy83cfFIXQRh8dn1GsgYGb6yvzvDJA3H54vL5+4daNG1rkS5FHKd09m/3s3buu5/a67dksDluh5Viz6Wx5acMllHzw4U8e3ws2V5eTAtskms/vo2i12WqMz44tDAyBCBKg9eI7vbiSYj7PzteWrxflueYxMLQqieu6+88+Gh7vTpKq0ybbq5YUel7wb/7gtcCp0uzUpoPx5NHo7H4UhvVkfDS6z3lpFGcGFlWcl3gyzTwYepiErtXtUgUAN36SJ5IefH7v5xc2Xuk32xAYuPg2EAJonsMFIQCOF3hhG0k4n2UU1dUss11Pcn7nswf37+76No7nteIVNnAe58124/hsVEtTFGXF0vNjHnq0mNEHT89qTSDGBCMpuBCcS6Y1MBAGYWgAINQiZ2fs2cMnAKk//MHrADoKEQ1hVWQBBBKKw4NfdtoX+u1NDAwAAEKY5LPz8d7TJ3/GZBmnY9tdsnXdbEGV5EAIzRUEBGjgUuw6iEpiw7ODp/eawR+Njn9SlEMI0Oeffu4AGSIJoDHaYqBRCLssEkS2Wm0c78mSy8tX1iCoRV01QvdsnPzoz/+7H/7N/+1Ssw0MNGDx8u9dEABe8cP94e99+61Jqc53n66vLo1yITUwSt3a7h2M6uWlJtIRmKQn40TUxcbqYERwrxsVXP7mzz66dmEl8n3iOJPjseN6nuPM6wphkiYpxrgqy+lsAgBAhwfZ+TCHwBiDa86EqB/fe9fFZZ4c/uzDP3/y6Dd/8q/+4Rf3P7IhwM8XQZqP7z7+cSXNnS/+0ayopGKBLVzsNl0gq6LZcTwbbq040Jg406OjTz775H88Otk/2H/vydPPHt776L33fpacjgFPkUVKDipZF3lslOXZvaDRt5wVabDre5euXnZDm0uW1fR4OKy5i2k0zDOpNDQA6cUfs7iBAHDBeTnfWl92fP/gZJKUptnyBecll41W2Gi1LMeNfBtbZDSOa66KvKqznAvhOGTQCwGEnuPaDqm4bASBbVnnw0lZi06nK6W2qN1qRp1OGwBALlzZno8KUFcUQVZAzY3U4elcHhx/dv/o8yjqG+h0otUv/x+BMQC225thsJTEv+DF7HCcNUjaChAyOnBIJyTxVM6mMuuTmWfVxuutBrc/Sap8+uTOoRTV2prnW9QJcatJANa1YBlXS63+8WQe2UE1EY/2alcJi+IsOck5SzMtTfvma7+7c/mtgql3PvrVt9745nIQag2fx9aXS1MJMZmM3cA+OT2/c/fR11+/EoSN4fTZ9esXemHw4OFxkWeBa6cFXx60gsCnNnUcJ9GSazg5n3PG7j87SavWd75y/eM7u9O4dmy7ZMyi2PN9iPB4PO12uwgA9IPff/v6yx3skk4nZLpcXlnaWN8ajQuJ6Rsvvbba6Pbc7u3PPsyKePEVFQDQci7svGWURHa/Yc3G8/ne+SyuqvGMra74r7y8vLUc2phghJQqx8fl/v18NhSToVlb3QibQaPtQtvMK8akqZXWgDphFNgkK0dSPyZwCgwQTEJj4kQgDC/0s0vLdb8BTw4fJ3mdl9WiLr3I/RAABMF0OExnsS0lwejSxkAwVjDdCoNm6Gqjy4rvrHSgkRZU4/FoddUXUuaMj8/nked/cvcAQqy0EVzHaTqcxgCATjOExhRFYYxxXUfrLws10eyx7xXLfc81QZwUw/Fofbv/+TwuYB5P7hgSJMzzkxIiDAAoWHY2P1DQstxBo/s7d+7+KYbMpfTRUUEs2mnhAaoHA/vNVyPHhmfjajZX4yHzwy5jpd/w8trUw7m/Dh+dweVGUNdcStzqhU+eTWyqS6k6oXF9pHNnOsPHx/OdK9Sx7cjW+eSdn37ykwqtf+N7/6ulRtsYgCBYAGcgKIVIqvzBg7sYA0VsZDsYoe31LpPQoiCeJmdFudJvAQ0sPxyEbvbRA6LNh188bUf+tSvrkyR+djQllHZaYSu0hFCs5oqYrMCu6y4tLT988CgzwPM823YAACTn+fpGZz30P/no8ML2q3fuDY/2jzFQ3Z6FHO/pyRwa+c1vXrVtP2XF0fnTZ4f3p2myffkbyqjVNvzwbjKdw6WeIznc2+NQ6arKCMGb/aaNLWQMQuTq9VcQYd2NcDZ6HE/t0TmOrKAX+cKLlUbtQffuvXE+rZptGvTs2Zls2Ugb/fTkfHtnRRj744NJzZRWJmqblW4zcggwQAMNAFRaHc0O4und8fC+1brc7fUPn+4BTKQUnU7ndJSOJ2njGwN1fk4VOJskVVk+2DuqlW54Lqt5Y31pa61/Mspcx4tC92uvXprOk+XlvgGPldJcCIDg6emJ57lSiiBwlpYGAADS7b01nZ01Iz8IR1LI/qA7n2vpiUnJIzkghhlNHz19XP6ONggTt+sGnWp4+Otf/o8te9J26+0VHyv+9EkRde1uh8SZNR6zMtVP748bvusip9Oo0/JxXpSHR9XKoHlx48bNLRQXsUd1nCOpuW1FmxfrD45iWZHrF6AbCiiMZWEPY6VxVmRFpctaCNDpNF4lxEUAaAB4XRkNFAWPH/x4Mrw7Hu0NNsTF1dVseJ7Ok0G3iQHgvIoaYbvlPt1ldVZtDsJne2e/fv/hretbXIrNjf6FG9tRM/hXf/FxxdjVi31gGFPwweMjTIhtObwq260wq5TSklDLAHk2/fBgDBEijuc0ZJ2VpSqy8ux8Hqc19QIpLSPLwOu0Wr3R+e54su9Sp99dU/y0mPwiPn1fi6GBeKnVvrDRvnbJg0xlsShZvbRsv3xzMDsp9g+Zlpbfsop4kpzN0mnZ7TVvXnVtX7TCuhlEAFpZCaRm2EQXrraMNqdniFheFIZZXjWsRhyL4aSysMUqE7rd1fVrFANhAISAa3OSJLunnwN+0mwsMUFE+rSID/0guHFrq9FyM8YfPTlyXZLPJ4cnY0Ss5eUlJ3AwQpe2lnNmMDTDw+M/+ec/u/3gABqdF/zzhwe+Z7cbgeICIzRY6idphSCNwijw/bIoHz747OH+b0hRcSM0gpoJCCC1qROEMJ+WRiGogp1LF9ywdfLsn+4+/L+Mx7cADMvhn/UDk8+sk8OSbliWzXMGCXFevrWczEaHI5EwRsKy3Q61jcqyNBUAQBML+CHtNuGv3r/datHXLvXS4sx1apPLs9EZMO6gFbZeAXt7+dMH5nfeUlzBD985BFS/+a0+wNJx/FYUz4Yfj1rYAcXF1VsIU4Xxk2df5OMJ1AVSueXdmJwzywBelwaY6Xi+0ms02q1Oe3k6ef/1q+uNlhvMAMIYQRWG7sZm77PbD8azUkomuKiKxs5quyxLxoQQ0vVdhBFEWEoRNYL5LK0rrlSLGEVOTubHR08udYJOy7FsJ82Lchb3w4ha+Mr1V9Karyz7XdIqsqenw9QP+3VWPTtJJ7Fe6oTzVDYj7DrKd1wLI9Bwv7rmnQ9riOt2Pzo8y66/5HMhnjxVlo0cjzx8euzbbHu9w2FaVHW7a+aZRSVVREbt7WhQdXujd35cexY+OB49eXZACO2teMtbHmPCsjLN7z7lhUe+szpYz5m5++k/uf/gzyeTfLUfzXPJ9uerOriy1SskMUDbDmh1wyzL/uKn7xpgIofOhrPdx5OaiwvXLpEQP957dvWNy612ZtnWxlLY73Qms+TR0fzodPjyrfVpLLOighhkWRE1vXkcN1rB+nbfqDNUp3eKkitJTs6TR4+PtDaW1zAYX9156W//8O+8eau9f/ePA08T5BjN9o8PBFFXrjZee6UFsamVZoLOp2YSZwBOm23c7nSvXBuEAXU8e2OzMzrXBycFRADapNEGFy6Bb32tPxyK218kUmGAEASCWG6/fdWLVg2IpEQbm9GnXxzee7CHEJJC7D+Z5LGSHHGBiRZ3739y55P/+3vv/8PHz97dffprCqDk+vB4LjhMJ/uej/ymJXhh2whA+NEnTw4PJwGC/9EPbnYubbxz++mdR8OvvHrpyks7z57d15JevXSJg5QoNp2kP//VZ4fnSeBHnuNf3lrmrDIaCqma7cB13KqsGeMIjCezmExHMqDKcXiScEpJ5Huo0YrPjm+9edG3vY3BpfLqy0X1uKjN0dkEIgw8YAhAVBFfIW5zhUuFA2o+f1Rim738stXygOO6AKrJeDYcVpwpQsH3f9i4tOVNhmzvODk512+8vNxr0w8+P5/P5a2XOm64pI18tvcsSdN44v/6F3drJgwwBpg85zWTjofbQfN4UgKqqlq/+/FnEjyKp+NO0Ii8oKgZN6RBgFLi7CTRGmidz1MtuPjeH/3e8cHJUs+RgEHb4kq8+ZVbk+l0c/MyIdZnH3/x9tdeHTSbf/bnn166uCkU/+LhIbHso7PUcezjkyEX+uJgNQiR67q2bVVl4oUdkmSVFeRBsLq+0Q0DTysoJGDCrK0O6vr47qf/LmPZznrjhNfQ6gdhs+L7s5hJDvZGfGUVhD7YiMhKMwgDefdh9tOfnG6u25ZDS6F3trwb16LDw/x8XG+uNoqinsay3/YubJJB2Ll973j/gLVbFtd7aTbqRSuNyM4y79PPnw0nE6OV0dpobduo0/E2eg2Pkoezaa8DMHFODgvFiiwVcAmu9pbU7AxBqLTyvGh7a/uDj7+4sL06m5793g+/ffHmdqPjOFZoLFSnv/reD956+7vffvzo463ta4f7zwYrq91u6yQcJkV1f2/abgXLvaDbjw5OZmVZOI5LqY7n1f7uMUQQQMRLabFTglRlpJrP9XA0d25tAQzLJKnL4tnDd4v5p798/9c0qClpQwB2upzpbD4nUoBRVjbDECv67BljNb9HqmZkvXSjlaUsybQwiAqglQ4jfPFi77XXyMqSHk9ry0WSN3uRBQDVRm+ttClFeVJLkrasFOuOyBvzcYYgghAaY7Qxrci7tb0+S+P90SxqYM8j87gQeTEaC2TQnKZQlQjLQdcD3AaIj87PXUpFLYJ246U333LdcDJ7FPr66GT+eHfc7/bS2dRI+Iuf/yQIvG9+8xuj0fHqavDGVy989Mno6Hj8/a9dAcDMUrS6uvrs2a4QhmAipYlCz/ddzucSQYIJNNwej8VwUlSVYowNeo23rl2uy/MPPpvOi+yl7WjvLK0qfH6WdLvYhsgLrPXIOz0rq5Je3Fmr0yxOk8dPi/GYq9q4xG2FBAm02uxOTquz8ez1t7w0Vo/ui8eHbHtz0moupaX0Hby+HExj5XpuzXgl0MmR/NU7j+uKCymNMQghpcDaahtSuHc2D0LUbVkQgLNhbVkUIKUFIEjv7c+wsUd7tC7MT+P3jSz/xu+/1Ww5m+uD05Mnq+s3WaWqfPLhOx+89dJyr0U/+fUvtm9ee/L04NaNK4LzsihbUevKtYsPPzngni01xghurA0IIY8eSwgRIdRzA2OQ5Wg3IBWjZDrhTGBa19jo82lGLKxE9tFnBSDMDgUwaBazJwcVgTgr1cm46jXJ9pqT1+aTeykxdXdfX7xI3ni9s7FFToaKaEgsQIF1eqpGYwWQ32mTJDZKl25A11aJBigrTKZqqQlnRCt1+Fg8vFfZnlUWBQSg2WxKxetaSylth6xut/dHw3kik1xiFC11aKvpnp5zz9OMy1Kbdt/reiujA0Nwdef+FwqAq9c2r93sTWbHqxcuIAwRhQe7ZztL7aTK/IhqjMejRHOws71+ej6eTZNOs/Nv/9X7ccWuXlrZPTh66daVk/0hqyuKQVkJrZXWChNUM5kVZVoIgpCOQtLpWmXRGk3z23cO1zYjXeu1DZ+B+YXNVsVZwybDUe4GhNU6L9DdJ1mtNKV4vRdOhynSbS6Fa/n9tk6n/OP3zoxJHdj/6nd3qOtM08nd3adPDpKNNSeK5DTWimPf7kwn7uGjcjQGaZomccoYU0oKKYoi45wDAIwGm9sD7WupeCPEXGqLSgTs4aQqBDYCZnnJGdGBRyuglDw4PusNOmurKz/71d2sSP72H31198n9S5d1mcdbOyuff/Lg0/vnV1+/hG07i3NWC8dtlFV86erV996/9/Tg/MaFlbde2fjxO1/c/uIRRFYjcNO8jsJoNDxHmABIDYAAoKxSZHszABo6LtYYN5qR7TiIAOr6QlRR264Y8kgPmYkCZqXbDEIJIMI6urN/tNR3HYsu97xGQCWH05n68IPpr368O5tlCCPHfjqfjP7gD14fLHsXtlxM2TQRYkJh3TjPGsqA6VRmWWXbrm0pCIHWijFWlsUCL4RQEPprOz1WV25IqG+QxiuDQHKoDQ49jPu+BrquqnhUDWeHnU4TAH3zykUI4L2y/ouf3Tk4Sf6P/+B/ATG5cPkCMHA8n3UHLa1Bu9nptu1fvSuLbA4geO/dO//i3/4y8tzN7Y15abJa1hVbX182ELqORwghhECIMcJKitNx1m4iwjiUwkhWXr++BgR1HStP1Hw22SK+QtoYlIF6nBQrXa8oiyjw3IDOZzxPVLNPuj3rcF+VyowmushInej5PMcEAmAY4794997te/tvvHGpv2Ij20OmG1otRFAW51U9Rxivr/Yt2zs6Pq/rWkoppbQsGwCoNNZaYkzTiVpZD85OU1ZK28aP9zPJDXFJq+E1bDqdwMB2Jkn85On50Ynjeg51nMdP9pRUGKOzYXxykvRaaX95Yz4/21zr/uhf/7KKo9GwIDbkEjaa7We7j2ezmWtbvZZLjQwDq6qkHwTdth/PZlLJLEupRRBGnJcN3xIMxyNNCKFJJo7HI6PsdjOECA2Hac3qNHUrxqMGVLJa6jSjQFKiiXa1kE8PpvOYIQfOLHFhK3IBrku5se6c7FkAGqOhAQoAaFGcZ+XPfnrbc72XXrr+ldcvNCJfiIoiy6PGINjrtyi1hGSj0ZkBWhtjIIAQYoQhQBa1yrRCsJWnigu9vBLYEI5mpaVQhoTrAYA0dWC/H34hj6p5VVWO0hoYAyCkhA6W25M4m4zioLs0nSb/3X//o7//9/5mr03mSXZ4dtrvh3Vdcln+8G9852w4Kzx7qd988uzcKNVv+X/0wxuPdg9PJkVRVoLrbhQdTPaVcVssIFSh45M6TZUBKM2yOGU1EwAoahnslgBjbQwk4OBsNowTjEzJUikU52ZpySUYZBlzQq29yvJgxWqnBR3HMs/nKkophBAhyHZosxnaFLYavk2wa1nNVmNlZbko+fHpVAkZhAGlFGNMMMYYAwARxoiSvOKffXC21gug0fsH+d2HcVlprHRyxg4eJ63A+v53dl6+uWxZVGtjjDk4PAIAaa0xAjduXmw1rEdPDx7du/vhh7e/8vVXLl7a5Eo12p0Ll7bffvsaZ/OXXn7l44/v/uTnn2lgJXlZF/nORq/RcDlLdvfHeV7atqWUch0nCEJjDMvrhmuhumSKsaoqLYu6jmNRLLUOm+7WeqPVIsgi07zEhExidTpCs9wUTDfbNC9kXUoj0Z0vypNJfefx5M6TeX8t/NZ3t402EAIANABGa40Q8n3fKC0410oCAIqSO77jBW4jci0CqrKuKsY5F1wgiAkhGGMIgOAcGHB+PK8zfeFCM/AhpTBO+N55WQFELUdIMDtXJ/s1MJhSorU+PR3ZjmVZRGnz+P7BO+892H12xpOYYPHNb76NCCcUS87nk2rnwpV5fHZyePzpJ3erQg4ns6Xe4Oa1dQkYq8Qf/5NPfvLzR5wJiqllUamV47rIQUppXtvo6pWu51Gjhe/a3XYrCH2MEOdaa8tCNI6TutTTSTUai4MRTyo1y2UhgBLQwlZdmSw1mhPXRiWDQoI3vrm6ebGnpIEQQggBAAhhz3Nn83iaJNpIyyZZVUsNGGM2AutL7eVBc2Wp5bkkigJMIOfMGGOMAcZIKbXUn31wAhR55Xp7dc1985VGz7GLmUimRT6rECjv3TuPGpHruqvLy7euXgx8NwgChPBkkty/d+K6fsFEs9kn0CCE+kurXFWc14zlD5/k//t/8P/81a8etpqNjZUlBOEvP9pNEymlvnzpuhKGsTrP0qIoTk9PIdBYg6zgozhBJ2dZWijfDyGhwgClAdCg3XTytDwdFlFIEAWuS32XQARPT/nek5QXhgY2oDQvimQWd2kPccJTkcxEKeD3f3jjys1NQiyljAEgiiLbtpM0ZzWTQjkWubCzFPpumuTP9s/qmrk23VnufvvVi9d2ep7nIAKF4MYYggmGCEIYx4WsILbsZsv5zjdXr930X39p9Wuvrv4nP7wZuW1CfGoR3/d3Ntdff+U6JjjL87Ks6losLXW3Lqy8/Z3v+kH4kx//lFAbGNNuN9fXV0+OjkIPzWN248rOW6/usKr61Qd3b15ZX1/pQiCqMmm1o9XVlcB3Xdc2RlOKLMuiiAgGiOCGCYmodzaMXaejJBCSC4kaLbeqCZelEqjZsiC2qlJbBGDHiiJXp7WSbG29oWunE3hxFgw5P3ha+B1+dXvtb/2daO/h2d6z+cHxrNvtVHVllAEICykQJBZCqi6f7h5yboBW8zQVNUtms/FsNkpq27IY5NpIAGyEkFJSKX7vs7OkCJYGeDjLW13ciZqIq6WlwS9+9dlkNtdK+54X+m5d1WfnY15zwaUU3KW4zKuzo90P37sDINJCAAg+vf242+6M9s+Oh2eu57Wb0eXN1hcPjhzXXu7456ejvZP59SsrNtVK6063j0kSp4k2hiDgEKsqDfJD7XmYEBM2MISCWsh2XIysogAQYo86FjVZxbgyWSpKpgTT8bSmCOWxjKf8+s5Sv910EV1tt1mli5iPJ9kkz//Tv/3d/8N/+Z/93T/81tIgmoynnCuCke86ZSWy+ZRPz9LZLE3mkJcbbX8QkUmWn85yrVRZVARTBImUcuH/0FrnGV9uB2FID45ZKwwdy8sy9e57u+/86pFjkUG31WiElJJn+yfzaWwMMEB/93dediwwOxvu3X36+Mnx5QtbSqGPPnt0985BNkmSuP70i5lDcJ3Pz88nAuKv3LhgITCeJXnJ9g7mScYA0Mcnh35AjdZpmtelcB0XQkh6Dez7TjKlgWfZNhS8Lsu6JS2kPc8G9x7sAUtJBdJp7WCrzmU+rcO27fuOFCCeMVZziMHl7aWsYEcHk6KQWVk2bW/34HR1sP7yje2iNh9+9AAALaUCEAIlj4/OAyREkX/ttSuXNjqU4Dzzjkfz0TyXXAAItNZGG644Qmgxd6tLFicQu/Dyer/TDMaT6aPD+Jc/eez64Ruv3XAtwmpxPomPToZCCaWFZVtVzRyKNlaan93flVLrYvarH//iz967v9wInj457XWjdrvJmby6vbJ7NDo/j8Gty83BoNFq0im78+xMG3hycr683LUsxOrKdVwA1TQptFRISmKY1W23ykIXOYcAU4K11krlvJxTiBCgRhotNcRQFELWss71cJjH09IiUGlBMEaQVjXHBkeBbTu24rJhUQTReJJXlUIIl3Vxcj55snfy8MnuO7+5/cmTs52N/nfevnxheykKbQjk5dXOzY2uMgZAoLSSSmijF6UAAljX7MmD8aX17WvXNjyn6dn20bN5VnCC4TxODSSno+nByRmx6IKoXL92YTgqv/PWLSMEl/A///s/6C8ta4hfvrHWaVvn03Q2LR4922+1/NEsOR6mWpmK14N+2/M8BEBdVa1Wy7YtIfRklDabjTAKqIVcRHRtEGf48sUO0NnewZkQilJKKR50fd9yk4RzIUQtoAbEIA2hFRCv5QmhinlFEcyS6uBodnw8ebp7dnoeT+apTYgoAQbew73J44Ojp4fjOCksSgGAxyfnDx/vuZaztbp889L2W29cjiLb9V2jzHyWaQ0ur/aaoa2U0FoaoJUSQnEhOETAtq0qr1phM8lnrU736Ix99PGjyxc3tjdXgFF5kWYlY4wXZSWlgBAJrijEQegISjb7nfOzMzvgGlSe23z99Vd8x9vZWg4879q1C5bjBqH3vbev2hb4R3/842f7Q8ema6srQvAwihzHWV5ZAgalSeJSjBQUQiGDrPGEzeYKYGJZ1HEtiKCoK65UoxlwoYWUNkXNlrPaC0LbIhhHLccLHULJzasbrcB9vDuaJ8XaoP2117a1MlrUSste111uhWvL0dpa1/VcJRUAYKnfDZshNwggut5r2JQoBmzXsXxPGogwfuXiqkWxMQAAoLVWUimllNLdVthvNxgzbmiN87M//7PPlUSh46wsDdYH7U7kB75d1yzPcyml1qpmanm5t9QON/rtkgvPc+PZrKizWtRhq3X9xqWqkpLrh48PECauQwLPb7db9x4fFBULXCgEM0bbNnE9S2mpjYYQuS6VynCmyP7RPA5kHJecKaWM1lBICA0RUlGKLEzTqvAc6lvUsSyEoa5U2HIVV3FSz5Jq+8YSpdAixBAzj/Vmx2u0fJuGnmV6Pb9WwHacXredZRmhOPCcmvFLOxuWTeqyajaW58DwFAaNcPj5gRRqdSm8ujm4/eTUaKW1NsYs/ANHx6c7m6u//Mv9l1m7zuXnn+7ubG3s7GxpCOcZB7rGhBACZ7NcCAEgtDG6tLnc8uCU6VJqJmCLNo92z7mtnu3u99rLZ2fMdUngB7MkA8jEGV9aI/1B12j4w+9e+ot37rJatDuBjfHkfBzHc4igNjbGCCFDLqxGjWb3qRhiKJMkpT5zAjSVlV06RVFbjllrRfMZq3zRACjNRJXyQcevCw4UODye1VX9u99euXixMZ2WjchP5vJsxI7Lut9wty8aKcHmWnT18sp4MpVSZVVNIJjFyXySvHYlhIAzAQUXGEHPcfbnUy9Fr1xdenI0jlO+6Lq01gCAivFnB+On+6M4vzmbzoVQk1n88Mmz/qAvpKoqdnwyqiuhlJJSuI7f7bVXV/qU0PNJGc+z73/3JaX47knS64bj43nLaT7ZP282/NHZWStY6/f7lBiMYehgbFmhD8qqElJZ1LEcUo2n1LIhNJ5HoCa1z9B0xo1kWxutIHAErIO10YWvaH8dxGhmb6jNm0ElxXCUFZV0bAohBBienSW9lvvKlcGr11Zefal1/Ub/6CQ7Pi+OjtIn+/G9R+OzUREFEcHhNKkm0/HFzdaFjdWyKj/8+IuyYhcvrDbb0eODYVkUs1lcV3Wz5b92cwMRcjZJL601f+crO5ZNhBBKSQDAgmpYFtSGv/fu7dufPcQYVWV17/Gz/YMjqKWSkjMphNRaQ0xefv2lSxc3XBvtT4pPH5512tGlKxvTpB7H+ZWLKwaoo9Pz0XjquW4tAMKorjW2nKqoq4pPpsU//be3s0JaFuWsSLK0rupup+Pabq8VBT4ZdJuozMHeQZ6VBmNCCRTCTJPi5HQ+E0lSFMNDeX5UQAMavh0EduRZrgMNNFksBDOMy6o2ozM9niYK69XV5monMMI4mFLMn+6dHh6PZ0kRRvbOhdXlfi/Ns19/8MmHHz/otNu2HdZcYZsSr3k4VPeP01Ibro0B4NUbmw5ZdNpAKWGM1lorYwwAjNUAAgihkFJyqbTJS1FzrpQihECIfM+9cf0yk2b/+PjZ3kkjcpkQn3/y8F/+m3dtSoo40xgTx5rMprZFDETUcpe7XpIln955dnA6YxWLGtHKctu2HaDV/u6hNkDUteRcCEgszxCC1lap75LQdSLPbjWayRyzBNKS3Fi7sBGtwopahAAAJAdZLKEhSsCyEKNJcf/xaRyXw3O+tze9fnm13fQIwoOl6NatpU6nMS+05zvL7UYrCpO8gFivLS9dvXRBK333wZOf/uqDX370gElhudGvP332j/7kz3723qejaSIU4GV9eDSL8xJjtLBCGQMghFIIo7XWetG9YoS73TbBJMlSy7IQRpQSQjDBZO/Z4d7u/ubasmej0KeuDR/c21VMXlrvB773B3/4jbRijEPfoRY2joWjMOh1ok/uPLNsl1Lz1394Y3s9EoIhpPv9DiEUQggQyMuaSYOIQwDErkMARMRxhdC0DMUs77qNq0tX55PRJ/EuRABhNJ+Khl8rDRmTFsHrW+HKsmeI1wqpxty2gFIqqTQCFkDAt4CSSDDVawf9lkMAPTo8Ozg5b/r+1UsXhJJxVji2G3aiP//RJ//D//RvMACYUgBh224ncf1w95wzBiEwxizcY8YYzvmiH1jISlEQBb7POcOEsKrWWmqjjDFa6wcPn7z95i2ojZJgMo2ZkGUpv/bSOhBm/2Ty3jtf/OhH775y/cKVi0v3nh5URXZ8LCUgs1Rc3llJ4tk7v3zy8NEpANDzbSYUF5wxhjCQhrCkMgiR/cPM8VRQAUqQ0cjR0fzs6CDd7bjg1Veu7eysvPfhPWQQtkDFKtciS/3WLE5vXV8PPEJ8IJloNUOtSVWB8bD0Q5XXPCLEdcjhWSEY8zxkgBZSzOfpwf7+3/ujb/OSPT7ET44mP/rLx1urtNcIMiYhAkCbWVrc3o8fH4yUlhjh55Zms1ikxixkJUgI7nZbrmOfnU8IJVbPajYbjDEAQFlVr71xfXurN89KkbO1Qff+/mkUeu1O5BC2N8s++3z3tRs7V7ZXfdsuSo4JQYQqacLI67dbgQuYsobTst1q5iUTUvu+n8apZdlpXhIAlQQoyWvORZpWRgMIQFUzo41nuxUHn949mMxKZIA2JgrcfjuIAsqkYkL/5a+f/OzXTyQzmTBH0zQtGBRYatUIhWRlyXTNsWVZZ6P0ycFESrSz2ScEFGX58Nnxf/xHX19pQa3q/9c/ey8k9v/m738z8KjS0hiNKS6kPBnO0Atv+mJxQmiMBs/9zQghx7Fcx1EaSKUs20YILxRNrdR0kvTbzU47pDZudrxaMFGL00kJI3f7ol9LM+iGrCo++PQJwRRj2mz448ksz0vHtY1QLgGu7VAEIbIrxihB1KKcMyWV0CrJM9RutxzblRIkcU6gwcjyXJ/YNKnk6Xl8cnQ+aDek0I3Atxz75DymAAKttFFZVh+fsG7b7q/CjHPXJp2Wa5De2Wxe3mmtDUIHwzwTk1lWl8XaSteiDkLoNx/f///86/esoNFoNpTg//X/8PNff7671A4pQhqYkvFP7jwWUkIIFyIlAAYA/aWCBiBCGACDMZZK52XtepbnuhgiSrHjOAsSN53Evh9qrTSmQeQenWYA6MClJyflp58fHZ+PEaJhw0MWWd3odHpBEIUQEcu2T86HXJu6YgBo13FD3yWYGqON0ZZtAwMhxBog4jmY18qlSGk1j3MmECKIKqcsuDEqLRkluNn0CQUIqSi0LItC3MBaQwAvXiLdnsHUGaWVAha2jKzdeVowv9QMA44xRpSSeca9JoTAYIyNNv/4n/3MdWzbohCh4zP5wd2nNsUIYc5FPFcAAAThvx9hcJHCFoQDISSldB23Zkwp5bkegkAJaYyxLIsxbrQJHaKkzPNqf29UVsyxkRe4EJrTw+LKpY0wdCEkccq7/aDVtBkrDg6P6rI+PgXb6+3RKMMYIYKns9i2bMZKbQwAynEty3YIdVAzDJSStksHy02AcZpkRmuhhEWx63jAgOEkMVoPeuGVS5uvvLS+suy3W26a88s36dqqdXLEXEJOR8npJB4Oq73jJC1UlRvJdS4SqfhKP7h2fT2Mgn6vHwQhRBAjyBhPszxJ0qquMEBCaMYEQhghBMEioIAxEAC0qJgvwFugprU+PDrO0ty2XIiMUhITUtd1XddKqWYj9F2KLKwhy9PaJ9hznY0r/W98//KgQxqRz2p+8OxgNBr/x3/0tbPZ/E9//FGWlnVdGWj6vaY22nGcJMun08QYU9fcdixKMaU2MLDIMkQpHfR9pdRklvkO6HXC7a2lRsMHwGjFjVaBZ3fbodbKdSOtUFYr4gHLJod74vYXKfLkrJg3iUUkrrnyXeIj+/6dSdho+iHBGLiOBbQuS2a7brPVRAhZlmXblm3blmUhhAA0GGPXdT3PwxhbtoMQNgbCv7Jc/1a8fSmOo6KohqNRURaB7xsA4yS1bXsRj91OIwr9uw8OPD9aXe06Dr752sb6Rj+Ok4PT+NGTw/uPdn/20cPtte5omPzsZ/cOT+Nep+vY1upGPwh8iongvMwLx3XLKhdScSYd2xWshloBrZCs00ZEGyGxEPA9i2KklYlCf33bunw5oBgwIQWXx+NxzOLZXHxx+5Rp2VkLzuel34VRiwimQ9cxLgojx4u82GIncTorC6Fpq+ceTIaAoGd7Z0maNpqN5eXldrsdBIHrugihxeYxx3G63S6EECFCCCXEIoQgjCD8MrJe4PXi7WIQNZ/NT07PuBBaSUqpZVmYEKnkx589qopqa6V9OBxavre63s2y8r/5v/2b7nL/b/6tt8/G806nubE+uPv5Puc68t2Xr28Neq2jg/HR0antWVHDN0ArJRFEhBKtVFVUSkitZVXVqNnDCKswgmFbx/U5ciC28Ggy0y6027AzsCEE83mep+w8H4Zr1vpGB0tqebB/tVmgsizYLIEGYC6rCS8h0ZFjtQfewfnBjCeVYdMkj1k2iedKacf2+v2lTrvnOO4iIhBEtm33et3N9RUIoO/7lFqULmbUEGOMEFrA9OKVYEqIBSECAGgIiryex6kBIE1TxphtW0en44Ph9Ae/86biHFa1qNhf/vjOH/+/f7q3n/0v/+e/JwQ/PDi5vD5YH7TffHX1W29vba42+8v0fDyxLUdBOo0ratlKAQSAZRFWc9e1AQRSCARRWXPy5FncaNn9JccnusjCspKMaYLsiDQ9R7gBtBKiEZzPxNlR2lyzBy9Z5URYHmi1iJK6YsCxYSlrirAtjK6wAHJl08Ku1ApqSS5u9+M6ldJopYUQdVU7lmVRWkGIEFpa67uuiyCE0Cwv9RzHLapqMpkWRYEQWoQhxlgpteg0IYSYEAig1hpASCBkjJ+djXzfWYDre54xoOG6jgX9BuktrVSfn05G8fBw2m+3hgfTz+89femlbUL1dDpNS+iFJmx5k/mMYsAYi+MMQXN+NgYQOY4NoDbAlGXR7bWpgyEAtk1Ro9lD2J9OhFKwKhmv5XQ8azb90XlWpMYiIYJkdaPTWHGB0MVcTkaVtqGCBiXGcDvOzGHCDVKNwBOEQkCrWG6thY5rEY8HLeoQUkz0eJgYoLXWQojpdKqUaTZazWazEUW+63q+J4WMAv/CxurSoOv7wQKdBUyEENu2F+sRIYQwghhBCBFaVAOtpCyKQkrpuq5j25RgIcXd+/tGuwcnk621/s3LK7UwvW7ro0+eDnrhd79/7XiYKM72ztJZBn7w11699cr2hYsrgtdKg+3tda0NxVgp0ev1m42GbTvAwNB3kDEWBqQsRF0nWZb7gRMGGAKltdYaOJ5BBhjlua5KpqUTUgNLuyBlInBo6waSVA1sRTG1iR6Pq2GSW0QDL2wSwgomEuzRRpYXpmt3wwbnxwhBiJBlUcZqY7SUxvf9mgtCCEG4KArbsYLQ8aOl0/MhIRQhuCD0CCHbtjHGGGNKCYCIc2mMRhBqo4EGWmsjjNIKYez7HkYoCugsy5pJM8lqz3WVFExL37M9x9tcbtx9uj+dF4ejtNDgysr61Uur00n2la9fuvWqfvxomCS5UlIDbTv2fD4vi0Ip3e/QVsPtd1qrayEajSZ+oOtaDocsnonNjf5yv6WkWOqvxAmYz3LBZDxn5weZThUxGBAjAK/OWDmvKy2LTOUlOp1wCSXyTZoWWZZPSsYkm8fZ9LzKZlWazaqKL7odiJDjun7gA2gIIRDANC2qsopCP/J9XnPPti9urPT7nUVJJYQYY8Iw3N7cWFtdWlrqdTutRuhTio3RlKDlftemUGlljFFS1jXvddsb670g8DAwXmAhLLI0UUKOJrMgcg1CQMP1Va/Rc+7cP1hb72phqprN5tU3vrq9sxMdnZxqrahFXc+lFm1EUZqmjaYVec5sNj88mZDj40mcOEla3by8aYxyXbcVqQfPjj/8sPre7yx3musno9l8XksFCNLtrrC0xQUqEEcKG4EY52khy5rZCLgWbVjydMyENv01IBJNYbfd4ePhTArDGIMILnKTZZHFMJwQ4no2pbRi3HVtx7LLvAz9cGdrfTKZnQ+nVV1RQggi7Vaj3YzuPd7Lsqzf6y0t9bVUq8t9hFCSpcpAjJFSCgC4OmjVVe66rt8KHz89ef3GFteYYOK4TpVVB1m2vdlZ3+yuLUX3Hw2DwJ5M4s9u729trgsGzo5ms3GsjPF9IDirKzkeT/3AV0rkohhPk3kakwsXmoFvU6t5eWcFGBEEzvFJvray1GjP1neSpcxeXx9YhMzyNM+l31QPT2U8ldgBFGiZC6SE5hwoWU7A2tZ6lZsymw36jstNu9U4QxC19OiBNAYarRljCCGpFCWIELKg81rrLM0BADXjoRsEPqEWurCx2gw8alnTaUwp6nZbrWY4nMyyPMuLotVsDHqNNKsGvebZaOa4ru04nHPOOUQwcq29w1mrYT+YzGome53gfJgFFPaavufathUe7A2/9/uvQcAhNXfunb1yY6nXa1ze7J4NpwVXa2udw6Mppcj33TSdYUKEkFEDvfGmfX6KqBuSv/EfXdxcWSrywhgKBD0f1/OcCS6Atg8PgO/ptq+0ri/tqMDrzmd1nGZNimtOnp3mUJFX1tspzktW3L1bP3o0ur6z3uy2Ly/7h6Px/mimOFnqemdnCmJgOfZClYYAMC61VlIKBKAUAiLg+34j9B2Peq5Tc+PadG25F4RukvZOh2Mp1ePdw7pmvBaB53uuO5/lteSzeVrXTAnJpSjLEgDQbDa//40rH985MprYLnGIQaJ2bNKP3Hx4tt29MC04cv2trbXhZI6grbVkijVCN8kLjBEw+vKtrfG0mEwT17YtSixqcc4VZ9cv9tZWBAKaxDNYFqcFmxIJpOqUspHnueAsT8D+vqhUttFD/S6Z1nB7fTzKi7UldHOnm1T0F5+qJ8+qe/uxG5mN7fDyZRJYtDmIx5PiF08zYAxQPpbo9MhkMaCUaq2UUggiSijjzHGchU7daDZsil3XCcPAcmwFoDYizdNmI/J9Dxi0f3jKlc6zkhBy9dJGv9edp8VkMtdGVTVTUtWsTrNMax0E4cXtlaDVrPWJ7/mCsyjwGs3GeHrUcs1pRV2s4uHpN/72d/3Imzzeb3XDN1/fcFx0fJoGEPiu7ThB4NmYQMCM1FAIRQgilDheqfQxJFIoQ6oc753OGWENCPwIMi0IplIWcSKW1hzL+F/cG13aCDhCR6dAaH1tC1U1siG6vOnlTOTHEktAAGq6Pqv03rPqZFIzy0CAbWMsH5yc1BBBqL/sHAklAADA4UIv5EIURSUosR17FidFUbRboQVRWnAFUDMMXNcq6xohTDCIAq/f67RCDxoNgCnyIk2yqq4Z5xgjCEGjGX7rK9dkxRVjfuBbwGm22gpbrTCsSqFZOedmzuDkPB+PMtui16+uqLpOah34dpXMvrh3tHVx7dqVpdlwcvfecDqbiVpYNuFM9PrctopCa8kZEaCYx6PKVCmw/eLYxu5avyXqQhngo54TBJIFw1luCJMTLqm0Hb9khdIoq7mF0NoOmU7leYkogcIAoyzgCctoiHBWZAaH2RQIIYRgABgIDYQAIYQxMEYjhBzHgRCWVUVSIoWwbZtzGfguwTjLy6pgtk0sSqpaur5Xsfr4bKRU17aJTRFDCBgtlA4CLy+rK9vLg07Ls+26KJa7njR60CKtpp1n9SRj7z48/f43r65utj95cPrL925fvty7eGH15GQym/O7957efPMa4qLbsud1GSf14fEsaNhpmjqeg5FB2PRXcA0zpqQGhAgwvbzTn8f1yek8k4xbkBdVwVWRFZZrtzs68rzJVJ+MihqrCqr9k/p4yJe76DytziY1ZujWtiukZhpLDCpWeU0CCovYmip7tK/jeaGUghBKKQEAQnAAgBDCcRyMLaM1AItlazAhQoqyMlLIbreJDEQAViXfWl8ez7I0y2zHNgAlaQkQZLxWBsR5VrNCKikE//3febMR2GWRNtc3ER1tbjXT2fzm9dWo1TkZz22LdNvNg7MEU9rrN4PQ3989jZPy0wd7V6+vhi7643/+BTJg+8L6fFJlGRsOJ67j27ZjlJRKW7ZUXDgQQQsRhMGsiO8/SuZZvLkahaHPDD4fA2Tple2hGykKsd0WqWuKOW9QUJS1zOBS0waMvTRw9/bl3kODHMYA6vqO0bxSxredwAHxIczT+st9ItpgTKWUnAullFISgBohhDHWSgEApCwBMFKKKIqqqgYQZEmysrxc1cz3nNB3MDBSace1qqoq67IsqopJQtnf/P2Nf/mnTymxx5NUa//yVn84S0OPEsOvv/bKo4cPnzx6/PDRwcZSN4vnrd5AmfMqTT7+8G5ZiNu3D1yK5nG+9wzMYn5+VjKBa1afnIwotQwAC9biuiZqN1ouzWBsACLttcrKvM4huLTd/uZXGgLiD36jEJGAoyqfFwqUeWCkrQr9yoaNDCoqcHCUHD8qr1z183OMMaQUel0zHJetVlDWCAgeAunV4XSYSKkAMAuMtNZamwWbJ8RadN0QwqospZRSKiEEQqgsmW3RmtWcczqbU8tabUVPnx3UtVSKA6AZ41oDy3Ims+G3v9pZ7jvzVLxxa2drqdFrN5eX2kf75w+fjDrdAWNPDw9mf/6LZxdXm53AXmrBh4dH86QgOCIMvf/r+3efDf/wr7+FILl6feeTO/uTUXlyEnMmbcc1ejEKVFKJZtNHWCoVSiah5RCWW/m83lhra6XvP7Elqp1efdk386NunpkQ1TYxTKeBo58da03x2ze9Zsd79EwP0yJselatFTYwMGFlGYakAG4YEebde1BVlSQE1zUHQCv1QpuGEMKFaVZrbdu2bdtaa6WY1mrRMBpjKLVarRaCIM+yg6MTSuhJPLIsWtaV4FIIyYS2KPh7/+nOz35xHnjh7759bWutTQGok3Qa50+PZ29xMTzOPv/8aRznO9+4MZ9n9/alSvPvv3Hlzt75v/6Ld49H2cZaz0i1tb1mhGq0XGCM1tCyIwTnUSucz9N2J6QWODo8UDXJuJEqADIgpaZND0uDmYQry7iG2cGjII5VWlajCgyN9iLZ8hEWaj1Cs5l+98M5addxTKtKBR7TBfEccnrAbS5rhz07zko+f/XKlYpzjJE2GkJACKnretFgfxloxCrLEkIIjHFdl1LiOBZjvGY1Qqjf7RCEhFTjOJ5M51VdO5bFBRdisbcJQgCF1L2BZ1xuB+jtN2+0Ov7B0dgJ4MryyihhFOOyqKZxlVXmwloLAWPbNocUhdoN/aKs9s+y3/3GS+025YiWdTk6Z1lSeZ730qvbaVxobSrGtTanZ6e9fhMhAjSeJiVGSkFNLHne74Sg5WQpWe0B7EfTnGBRBjQvsW54JJ5z4Lqcq1mpmj24vNR4cKQGXWuuKXZxE9P5iZgd1reutn2CrAZY6/Ymc5mkhRTshRy4yGiLIRDn3HVdx3GUlIvppO97lFIIoet+WUA540VZCCGrqlZKFbKC0ABgFuqFNtpAs7MZSgEGffeltVtpkmKrzpV8+Ozs7tPDW9fWszTNYnZ9c+nxwalvk9PT0awQa8v9OM0qzhGxrr681YzQ4735PEmbveXl1f7y2sr3vn3r8ZOT4TA5P5tQipO4SJPzwbKX5VwAHRGdxgkxpV3aLgLWuMgPH+eh48Wp0UBoIrmwgQhHZ5OykYWBozg53q1PrVgRMh7VjTWUE37/SerVrkVInito1RRAljqTWc1ZBQCQUkMIF3AAAKVUtk0IIYu0RQhxHKcoiiRJLcvSWi5EHkrtOE7zvHwh+DwXy76cmABgKKYv3VrZPVJYBZ3ItQmYl+Jkt1pfITcubm4uN89H00EvGk4LbUCRpULWeVJ7gwpyPJ8VS20fK7mytplx1euEBNNG2FhZ6zU8b329S6ihFFy4tHrn811gDIImkQoac57rgHrk9kl607INVSNeng/jOs/ySioEfRtf7LiPno2R0AG2ypmeTLQWDrZEc8m0l4hRrBzXSDoQQUeTcq4Rkq720orGyWQxRlv4AYTgC91ZayMEJ4QsaAfGWGvtOE5ZllorKVWeTymlnAvGxKKBX8zGvzwsDQCtDQBGG9BrO2++1jPEcUI9ncbUQQ4KizL1XMvOWafTSuMyqcXjgzPPJeO4VIZwLhS2P3t4MJml26s7T56cXnv94oULa91mdHA4TOPs2dOz1f7X791+MJ/ltu1MJ6nSst1q9/r2xkrkVPIwn2qfIgFVIcu8jLmpey3kRryeQSJpKfjj42HF8gs7tBCGcdRogbPRJIt5Pq0VNhu9oImifJIHvuj37UryAtdBZ6moONDq+ZKEEEL9nPorpaWUCCHXdQXnUkrOORfCsixCKMZEazCfJ2macc6+1GAxXsTjcyEbAACNRs22ayCimJepXXABDNw7HQYNfzzL5mVVMbG0NJBSd9tN17EMQqPx3LaINvDgdNxuNXrdTrMXPdrdBQinaWFZjmJsMs6MxleuXbYomk/naVpgQhBEjTbWeE58s7kcLPUQIrb/NDfTUjkWJ9IiFVxdamBF+r0AUw9rC2DYa5B2U3eW0MqmhaAszoGVl09P43bH2rzgRy0z6PitjuXYjXGsOa8MMAtZWWuzcNYtBELLokoZpfRi14kQ4kWCW8zTFox3gdRiOf/2BPO3h03f/EZ/XrDZrCwqaSSoaz0c10vdSCplETKdxivLPan006OzXieKs4pSd321xwSrBVjqN7MyOz2LJYOry+1Hj07u33t2fJa6nrW/f/Tzn3+mFaSUEogcy2JVNZ8MJ8PiKJ5kuur2NMkzfbnhlnl2UoIG8bS2ghYtJDt/xnZudUpTT2OpCjqKedAkUQe4AWVzwn1SlCI9Sm5c7R6fVxqD2TS3ULdkTAoBAQQQCCGFUBACjLExmlKCEKKUKqURUtSyeJ4jhBbCWZ7nGGPG2IuwWrAQrfVC+3+BmjGg27W/9q1ep4WpBPGoq+rG/b0jztig5by/d0YdC0Idp8k8LlqNaGdz7c9+/tH6Um9roz+dpxihdtO6fKX/5On42RfnovjoL/7dp2enM43ID/7aV7+4d/iLn30ulHZdN/BcIYUUst2xAbAQxayS89EQtS0l69JzXJe6UgPkI6stMAC2i0FWJVlZShqs4VbPdBreYLXl+JZw0r2DeaWLGIrHjzOg5cYWuHl9tWagKooFD1h4Vo1RWisANMZYawUABBBoLbVSwJhF5ySlLMtSSllV1WLZ2rZNKV3g9WLC9GLIpLX53u+uLg3IOK8SblhNFeR3Hp51e404TrOSBb4LNPrkztNxUndboRCcMRE6VpLmD3ZPW5Fdcc2E8Am60saT4xnGHnX9pV770/c/v3v7qNVuQwg931VGNv1AGQMskgs6SY1jodPYJgqYmWS2Ir5n8bIGxECAmksWNziXppoYU+YENbJE+A3+7CETSo1TwRNFDX3tRnvgo3LM4hhMzv2qSoRUAMCqqhZbHAAwi7Vm27aU6nmYaCEEAEBK+bw+iIVzYHFRSoUQC7sKhHARYi/wsix065V2lhibWmkelfOaqRoC2Aj9+/sTJqRSBhG6fzrNs+z6haW7Dw9WBy2mwW/eu7uxOnjz1tZHXxzEk+zKpbVhWf3qo/2SGSE0IYRAd57MAIRBECqlirqqKw4BPD2rmn2AHSkTGJeK1NLowpSSdQMb2dhApphGCPKpHqc19Ygm4OnD87Li47R2HUtLHfhOq02UsqtcDBnv+9FwSk7OaimFlGKxdr7ch0SIlBJjvOjJAdAEYaUBQFBroBUwBmigFsGFEFJK2ba9QHAB0yIVPsdLKSW73WBnveUAsdaiQ4D+8njeaATL/U5ZcG0QwRhDI5SuSj7oNIXQJ6P04mZvPEtc1w9dh1BLazNLK2w556l69caVz+4+LatSSG0j49iWNgghCYAiiGKspFDaUGUEn6tRLkaVQpQQpVFes6ePk4KBeQZjgbjCjKtiIiA2/VWPJwaUpDiTxURmc5GdMwiRi8XZUY6VpRidnNGS1YwzKWVZVpyL5822XLCqxc82xjy3DHzJPxbqs9Z6kewXpPdF2lqouIsbY7TWRinzxle7ly7RzpIDKbM1yjIhlLQskiY1QZg6zvpSSwud5GJ5tdtsWYyxikmhFUIQESiFijyECczLXFRsa2stbPiLMT2htBF4nFdCSNuyodFKqY3NlX7TanaAsk3J4WzOkbS0LBWURCZGzqWRWhdqslulc6a0tHyTlxV2UbMZIYNZpXgB8omWJbSJK0q0uys+/YSlidJKGGOkVM/dh2AhIn6ZuRe/X2sAjYEaaCUEM0AZoF9wCGMMpfQFuAgh8KWzzGitldJam2bT/Vt/dCVwQmwMcqNRYhAwR4cjAk0UOp2mF89T27IPTidCCErgPEkBgs1mWFasFhpAUtaQWj4AuCzZYKV5ejKWUkEIV5abGKnVQQdBBCEgGFsWhRAWRfb1r7f7kdf0yA9/sPTmLZcYjh0Xz08qCeVsxJGDOKuqRDQCevGbPU3B43djkwsVZMvLZDwWFBvh4DgRQsKbNzuiJPkoGJ4yKaVSUimJMVx4517UPiGE1hoYQwhBCEkh9XMoFzM3jPGLSFRKaaWAAdroBeKLTwIAlVIv3+oNVsmTZ6estL1AYa1ZXRUl021YMsGMwBRzDKZpHfreeJTvHRxHjfD4ZPTs4OTm1avQAKlrg3CrFcRxVledKGjWFaOUxknNFNo9Oc9LhpAZTTkyhmBclLUd2FeuXnMbB62+/qoTkfH9ItrEg2ueUDTZq/JT47epd8HGAQIWlnO2dcHvLNFPPpnHmUEYtpZ9x3P6q35yHLM5RxLzChVloZTSWkNolNKEYL3YJU3pIkYWvMwAsEht6rlNjFK66NgXpGwRUxa1AABZkS/+7fNcBgOffud7Syk3q80ObkbD0T7CLLBQu9E6OpsMuu3z0wQiyqQRQlCCQ98JwzAv6jIvLWSHfphkeZpmhBq/RYZnXFQy6FGDsdG8LrPpPNUABb4rOdMQ+TZNsrKsqlKlSSV7fZVm0nYcNJ1Ux48qrKENULRMlr5iC2iAQX5AklE5KXhlpLbMcselEdp5tblybUAdMz7Lg6ghCFEqKAr5HC+4UA2FEAvLoRRiQRS+5FlKfWkRhlAbQ+iXOwhffGZhI+aCS61e4PWcvppGyzlVJklgmZs0LwZdYzVBq9tExHYcO2pa87TwHHcyzJO8tj2rZFwrSSkBAEIEq7rCxPICp9lsPns6LkpWcba7e5xnZSMKWFViI6uyDgNvdaVfsxpiiDEJI9/3cK7iQtQW8jFCyPKw5+HdT2KG4bw2dYWXL7mbO3YroGnMjj/LH308//y9CWkRL/KzmYqHcT0vVaFrqeaKZeVic3i1yOII4YUitgiiRTKilC6S1Iva92WS0kBrs/jAInMtyAfjvCzL52bP5zYpgJbXgprrJw+zd+8Mvzg4SWk5GfmE4LRWAJLhOOt0m29//Qai1vn5+LXXLu5c6QGjiyzPigpgLBRzHevlly9KKOKUD5ZaSVZ+cv9Znpe2TUKfri0vezbNsrTiikCcl+Usjo3RRSxWXR9rS0ssMoG2Xg69HlrZciIHtnrUKIEVefhB/NGfnk93JVHUDS2B4INfz0++SLIClbWqNE45P3o2UQdUc6ti9fMfhrQ2SmkIkRBCKaWN4UIsBH5gjEXpgkksPFBaAYzIwhm8KIvP09Z/2CEtKMjKapsKD0r4dFQT25rG0emB9IjV6jWkEGWllFaCF188eBaEfqfjt1pBp9f5/R9+P2xFEEIhZJZm+49P6soQjPqdhqxygqDWuszSqgYegZFHyprP5+nKShdC6vu2TSiW9VzFkKLQ96eVIEvLLmMCWigZiboSKKdXX1/3andsJ8Oh6PWiK1d7tanfPdgVSs+PMpbgwUbYb4fxSW2KQAqgtVokI2OUZVlaKa2BUhpCYLQRkkNjFjVRKUWeO58wxkIwhCCASMovDcSLxfhXYfg8yowBro8HPb8Vge1N1x2TdAaNYMMx+M6b25OH+wiq5UFv92T4lz+/nZdsdaW7+/ToaO80CHth5BZV5TtW4AVdWjddcjCVhGIILYkdrtlSvzucTLpN4Ht2nJTUyCBwAYAWwQJZfkMFq06cVACLeTycZCV6/HjW7QQiVed36/MvhJwjUcOvvPbaWn8NQA0UGO8lF6yVm1dWGg23ZTvXbgRvv94ZdEgpqrwUnAml9CKXEYLNosxJqbVBCEMIKLUwxpzzxWcQQpSQRZJCCC72NxhjpJSLCvDv5y/wXJvUly+3Xn691e1adz8tjo7KzFTzgjb8pu3b7U7j5VduhKE7Ho+BhoNui0D8zq8eKOi3ouDg4VMgJaH05Gw0Y2iw3PcdC0AjZL2+2a1rjhDyXb/T7bWbrV6/HTW7QMHhaJpkRVqwlTXcbDvTIYzn9ckYNGibrG+2Dh5mJ09iy1hfe+M1g6TS7O6T+4fjLHC8smYrF2hCpi/d3Dw4mUmgmyQ6fRh/8PFYGNTx2ggZi5K6BgvxSwjhOq4Q3GilFUDUwRjjL2PQ2JaljdHPu4IFHC+2jSziawHr4v45dtB1qdcMTk9zxfVkzrSl3cyRkLfCVWHUlcsbf/aj942pur1Gr9WSih8cj/0wWl5qzpM5orSsJbXk2trK5a2esJtnp7cxQFVRzaejrMijVkMbRaDxKdjeaP76kz1WSam4Q2EumVL49h3R9FyhxCyuYgHRZFzkSVFxsX15/RvfezNs2R99dNjpr/W6AyTR3vGpgNUnz57deXD6d/76W1c2V0dP1GxCaqYt7QKNlFaMs8WJYwsipo1CCAJgFunsBYFACCmt67peFIovp+WcLwJwQcEWsbZ4+2KFAgCaLb/RsEfDajjlyMFaqpPd4vyQxaPkzhfPptNUaqM12NkebO30w6bVavrXrq3cvLmSFdXhyUgB1e+1ZV1Zjn94OpVa2ZYFIFbKWl3pKy44kwIoXqfxLFESFGVBMHYsJ3LttR1oWdZpCg+HMM21NIZwptNY2IFzkh7/4jc/HU/na1udADY7vv0EHLRWXSotlosEFvMs6/bI1naLUKw4OzoUSgEltVbaIkQpVUtZVdXCFEYIIRhrpYWQFkGci4W+SihVjCkpGWMLmH57Jf5VX/X8flFVesuBbZHhWBRzTh1KMFS4jmAIRH08nNu+/b3vXXN8urm9goD603/+y2dlNZnE8bzr+OHB2azTiIqinM7SVrMlhMyK6tvfeml9vfmzf3fHGIQVoxgqZbxO88nDU84FQhBTAqht+cbYuK4AkFpNxfm09ICDRo+FjS2TmYHVuri08fK1y2+//dXQ87N8Vstye6ubFgwUxetf8QllGlX3D09354dbF9vaWBAYbTTGqK7r6XQax3Fd1XVV1VUFgHFd17Lol5o1QkKILMuEEAhCxpiUsq7rRQe+qJW/HVYL1BBEEMCo4bU2XGHrLJFSqjIvlAGYWivtRjfyG60gT0ubGqO5b5ksZ1pZRJvTk0kt4GQ+55xf3Nl0bavZbHCpzicTzk2z5QKgG72gZnyeVTnj2oCzUTGblRjDMAgF46PRSGqJRUS1ZzKUljDwsQcB8klomKYIF4U6HR9uXWganjXbdrMZ9nvha1sXvYC+9voydVQq0lLVW71wudOWEBPshKGLEcjzbDyepGmapYkQjFJMKcYYScX9wDNAM8bA8wnTfDZbcK7FGlyIYr9dH1/krwUZcxx7qR8hyYfnGc+Zg/FavwckZrXueA5tRcsXVkeT/PGjc4jtKHBHw3Fd1ZjSZuSMp6eT6bTdjBzHgghZFGMLD0fTTidKh+WdT44ePzq+enlpeb3je56WfB5XUhmttZJ8c2PVopY2uhbWaKgPhzVVfkiXawYJhFU85Z5vHx2NT05Gs6IkjvFthKxosO7fOd6Hrno65eoUs1L027bXKYtd+zymfhQihFmVK6Uty1JKKqWEEJwLz/OklFqbJEksgpM4WVDWRZJaHAe/QOfF9dvBZRYbJSAyEF680P3db1+vVL2/N5vAevNS63yYcMa4UE/O8ms73c2dTpbJdstbHURCqEEvWlvvzbOqzNXjB8d5ytaXlxxHJ2nWajan88TzLIhgVvGykkBDgrFlW1IqxlQuquWVZhB1Pv9sz/MptUiz0Xz0+KQ/UIN2l+CQGAxtRaAlqUMAgsYY16KIA4qJcDCUlnG4JFWRIX2KRC2TNFtfDh7uJy6UFPTKovJcorReJPsXEqAQfCExYoyrqgLAaK0YEy/46ovIAs9317wYhfw2uwAGrG80X/v+8oPTw2TMB73w5e1lr8lzAeNaa0ZUpYDB/+yfvnt5az3P8ZNHx+ej2ZWLaxeuVcvb/WYUfPD+vdGP72VZGs9MXpSCCzd0B6sdzfTZcDaezjFBdYmSeWU79nSeGAAuXulLKTzbSZPKtlwhZC9qNcLq0VHWbdWwZK7dIiJxLciRBpzpGasUUoTgbMq5Ho1NtrYcGkUPTidH42nYtUZZdjpPPOD2bNNrhZHvzSYzzgWEBmOoFIAQLmjaYhoCIRRCL8rgYnb5XPwyL4TWL7E2Gv7VXyIIESW40fMmRYaI2L5mVxXfPzhHZ7gZ2CG2BVL9wHv4YI9zxOtqesbztDQEvHx9p9cKR9PEouJ3f/Dyk93J/c+fFWnpOnbQdDa2ul/5xvUf/csPb1zYnmWt6Vla86yoqigIjXZrxqrcnBxNpQSj8UxITTFJs3L5mmuNq8D2qWVFjk+2X3ZpSTxDf/HZiZAySYuBjwVEzEG+bk92q5Pd8d6zYdiyCLWP9uLRsPQMWLluO4EVuHboe5ZFGcOUUmMAQsiidCHeV1WFETYESileKGiLFPVbkbVIYRABZMCLbklTglc3GkZrjBRqm/EkJdB1PAsqMzzKQ9d//dVVPUfK4LKshtNsZ3slbPu9vi8YZ3ntW1bgWdks+fZ3r6VxUuUiirxe3zGcX1zrfvf7r2AMC9X2sHVyPNII5POqUrDZaJVFUVac2LYQFWOF12ySAZ0YHXYDS9lVPgcZROP8HLT1XPG1VefqlUbrSqQD6/h0lOXjhg+hJ2Cz9jwMOMxGJUv4IPJ2NtsEgW6rlaXlcDwDwBCCjTGEYEKw57qu7Xw5goSQEGRZFHy56+ivQuy3hQoIzPPHAy0SHFzfiv5n/8VFUemayUav6YVhVcvWquM2iLcMete106qBazXbYSOKWs1WVVQIiStXVtK0evc3j5OUNRqeFxAExPp6nyLYX4l6y53LVzaVZGEAbAsMD6Yba703vnrtb/2db8d5mWSZNmIW5woYxgSCiCDsBFpJNt6v7380PB+e9PpIA03KY3tiOSIwZ884xKZhoiIVratWRkotzmRMRGrKUvouFQKELccPbarcvBbj8TwvCyZ4XTNgIEYYAG1ZFiZIabkwZ2mlAISM8d/mEC/IF4Rg0WAB+NuMDCJEt9Y7VFqcyf275XBfmEpLia7ciIbnQ6xAf6npmOjiK5drbg5PRtrIiFjJnD+4e3Dr5QsGAyGERRyIHd/zXnv9YjrMmp67tbm8Nojms2J7bWk8yzY2euPhtOZSaBKEPuVAayCEgQASYljNy7LOKjy9W7S6jU7fZ0wdHtReaKFWl0yexPK86rQ9R/hn7yarF7suCa0ErUaXr++8NNmrLUzaA8du4sO9YvhMFKk6H00ABCuDXq/dIoRooykhURhFUWjblBD85fQbAMZEXbNFQP3/VcbFCOrfa8IBQEt9b33FfvTJXHHZwFZ2xizkNALXiPLi1dbrbw4Ur5pBc2VzqUhKIWSv6Vk2+tX798YTMUnK7a3+9nbf9b28LHefHZyfjH/w16+7LfLzv7xtjCIYM66Uht1O9Kf/9jf/zf/1z//5n/xyPJ4hCLWSBoKoEVKCe93GyurAIrjtkfFRSpBtRc60YBghUvUKImhdQ3sAd3aop9Xe+biocd/dfnnz9W5/yyi2t797dJwxXucJCzCVSjZCP/JsxyHNhueObSmk51iry+3hJDMaaqgRRBghYIwQXEphjIYQQLg41/MFQOg5al8+6gZh2GxE1y73lrsBtuXvLS91GsGP/uU5JuDaay0jeMVK4zrpnOmG++6vbptaSmWwVHGVC6GrImas2+2FdVXXZZVkZZzyt9/cWFkOVlaax8ezLFVaFqWQvuvkpchSvrYysC0yGqV5nkaBRyBirBaMhwF2bCetRDrl81GOtLnxUocxMJ4lJAgi3YKjz2fbHWttYEa5FFNTz6l9w4+W4Sf7f9rakNBeMraQChzpKPBsivBSv+M41LIIJdbSUhch3AucjW5z72Bc85ISalkOJmRxbtECr+fBBV/MU/6DPgljPFhqff3rm50OPJumvdBKM5gztnKzQTAokxRh6Hm4iGU/Wn70cPj00fDVa5sKaabh2axY6oar3fb25iYiykjzT//lT//iL+698fqVq1c30jhHAEGEXY9ihJKsKrLy6e5kltTf+PrWnU93XcetWF6UuecG8ySWQh0fTrlU3S4lFLS6ztoFj/hGDCWCmFSnojiobak7DVglzZyXVSY9Bx0dH/z3/4/Di9d9irDynP5yY/IQ/a0fvsKZ+ezBUbMRBkEgheh3GtqYIq9akZ8X5SyeaQMgrClljUa04Ba/PWf7rVymAdAvFEQAQLfX3Fjvu4FNvSqe8HMN1pcapqlaHTifyWym3aCuGTYApeP8/hfnL1/bch2rFbhhYM+yemmpUWuVJKljE8dzKqlWB+3f//6riiPPdv7kn/xsaamTZ0kQuI5rffzJs2cHsxs3LszGKRPaGOU5LhOiYkwJYQDiUhOEA9c5ipMoaqwu94iX9du4GbiI5TXw5epVvxWFKzvhxkqTdgHwkO+7OpWsdo7H+viL89GdNAz9KjsSatxuBlpIpYUBqhEFGBiMUCGUBMh13QWHqCq+MIgtju03+q/oPgB/ldReUI0g8JZakShYNmOTIaIuzEANMVtuwFagZ6NMMNlzOlu9izZc3l5dfe1y3yGwZmzQco3RZcUuL/efPj3J03x8NrZtd2110Gt6EECEgQZGcPXVN6+02q6B7E//9Df/7X/742dPTr765oUr19aZlJ7nsJpLqSkh1LIwxozXNoXaUCX0+iVrbSuitZcOOaQZiiK/3fV2Nt3LdocoRWy1sRTqXJ0/YlE70CUmBYWEOF3LtHECABOubdEgcKQQvmszwZOiqrmqSikMWRr0GlFkWRbGsCyLxTQAQWTAl8I/QhDCxXwXPscLBZF39fraxfXw8qZPFHOgtixrfcmeF3pvvz4/Leuk2llbXt1c19TdWuoL7SyvrkaB59nWNC0+f3R0cSm6cWPl2o1lo/TNl26Mz8fnR6PVte47v7jrBc5wlHz+xT7jteVY7Xb3+q3tVjdYXRk0mr7lOBBA14GOQzHCdV0tdARKLWFMd8299sZge6dLoWmHdPvaSpJhcu3tFWLq2dPz8yorMsJ8O6u1kqq1FEIpf/POs07L85dwYplWpHxjm5raAhGKCMaY0Mn4lEvFONNCcqAH3S7BeDzHRV7WdaW1poQAANBfNZTwt9bolztRPd+9ttXvu3LuSrfhZEDkE41nxmqASVo1fLfVJx88unfv0At8zyfAVb3QaoWuffny6uePjy5cXL2w1JAUN/uBMtD1oyLbrYUqkvLCpQ0p9YMHB9eu76wutZKkaHT77eaw220HnjsfJ+/98m6eVYoJiK2iSLqdtuCSM+7Ytue7g1W9c3GlLHgxygFFUcNzSEhYWaqySFIV27USlB2U8bymkFZp2V92X/7dXth0T/YmhWBorEEOBz3Y67YIwqHnlIxRy9VqYrRWCBKEGRfdTlsIoaSu6wo8PzwFfnkIjTYGaP1lHUAYAgMhgFub/bULkTpNbGY0EkSpUsv2csPSypHiaJKHLvGpbSPCZ1wRtLTsIgnWNjpJVayv9/7o730jCu1kntWCR2EDIeQ2vIP96bW1rbfeeklwdufu3ss3r2CDtTaSMc+1pBAnJ5PfvHsPaegQ1IrCSVratgMB4JwhROqqjlpu2DMzntVzzJXwRVBXnDRKsv941JSkTIlZQkSZw/tZPMlby8FLX2/VRhIL7t45P9mbK4JQw4MeXCUWxQYik2RlxXhZVkIIi1idTtgI/FmcMckbzWZRs+cuf4gJMUoao5T6sjK+IGIGGIRRo6vn2Uz5+GR3Vh6VVs8NGqHIVDZLy4AGnUDzarDqIwdJBnkCgyiInKjVbtx7vD+aTCmRUdSbjzMgxN27j1rtbslFmgi6Az78+PaDeyf7T2dvv44IQUFAT84ODw7PIYSMq8k4phaJWs15llcVC8IQAEktS0hFKI58u66pqeFwt4hCajlGcp0faeJg+2RSJZyx22X/QsP2kAGgOC+G986ins9q5Fr2jW9sYYqPPhmyVFtbFqY0zQrbdopSYop77eZyjwIjLcvyPC8ti6KoLMuCEGoNtDFQa6X083OO4HOv2ZfzJMuydV3GJ9AOfLKMyhFOJlVZaqcTSo+GLXd8Nk8Pi2bL9VqEGuy3ULfptFvN8em07Qdju/jVT7/4w/9kjTpBUkwPdk/jk59wVV/dWn7/g4dRZD96fP6dr9948uiEseraSyuf39n71//m7nRavnpr5eJWS0k1mRZPy0JoFcdzz7EAJJaFPctBQNdz1Q+ooo6JkfCBya0qg6SsecFN2HYQNZNpxZJaK/nKWy0b0arSCsK8KFBABAcAkX63RQmomUSITMbxaJ55No58y7K82XxelDWGsNuIjNKzWayVMQBKpbQxSpkXLRFj7LnBExgN+isOI2DKC1uoQphGGMhSWMQapmWjQfVeznPFahC0fWDBrBRtEBXTusjPVVG9+a3X5zXfPZjc//B2Xsv90Wi5NyhnpYuJY9G8qla6jW+9fQNKc/fJ2byoT0/HRS3qWtm2jSAajYuzg1PPcxGino1d18uzggulJIvCKPSjYp89ceZAIR86dV0/ejBLM0nGJ6KqFLUdI3hxxMq5aPSt/q1BEFiK6TxlSlGI7bMRv/S1gVMTzhiBiDHu+Y5XFKFnJVlZsTQIvCwtpVGslJRQzrkxRhsFAHw++f2rs8aN0RB++dDe/nrjwlst4tC6UE4hEYO1hQmQ81IWTA1cVKcGtWyFRDGtsxjsbG3FpejarhV4tTIXL6/fu7/L47Q9WPrnf/Fx0/a+9sqFeZnvn0y2N9udZkhsr8qS0Szd2GgnY9nqBqHnZLWYx0ngdjWyFCJJPHJsj2LabIbjycy2aFmXp+fA1rKkM3tAyj0FOaGeazmcINt2LM7mprfsXlhxmcQrl9tbW1EdsyePk0G3CXx1sp+LuGINu4ir9YgCgB0HW5SibiuuCgAhgYZLBTCJk8woTQlVSi38P1qb5w6zLx0+zwkagABRC7WQxw459yWkREgpuLJCqyGtyxx8KqtzAZwG7TcCbSvMeL9njU/jtV6vLOqg6Z8eDU+m8eP7Rz2LdjSeTtKv/+4VBNTh4Wgep9/7xmVb4/3T/OnZTAI0aLehMUv91vYgub1/1mm1Qt9xI58zzoWMmrZt07KS1LKA0RigOMlgXQzWrZqpaVqEdvDKpe5kV5BvvrwmII65OBmftrbDRtPnHJyfJTwW82FtoaS9HOQ5s2302c/2dW21vr6mNWu1AmMQRFBw1WxESZ7lZa0hEtIIITSAQkgDzILfP3/WA3hhaP9SxtCy1YtW+s78hHFXeA1ZEbC+3s1O2O7u9E6ZAQu61O5v+ZN5IgIKQ+fK0sbpp9WbX38FIHU+nJV59ezx2dpSl1f13U8fNaPw5YuDolbpp8/qnJlcED4ZD7NkVm2stBTQq2stwHmrHaA9yLiYzOdry93zWQIRrKqCImUENwZiTLRSnkMHbhC5KM54De3edqN9pZ/HBTkfp8uryKHQLi0IUDZOsSJxbaCB6ze7HR8AILU2zSX/a72AxXAyHUPkBZ4LsKmFcC1LAiWkcSxHaO1YZDyZIIjqul4I0wsmhtBCWVRKfenZgxAZA5d2wrrFiDQksI0F2w6dHGX1oSzTAvo0SwRoybhIdWnSk9Jync5yf+2t8PKtpdOTefL0mJWm4fvXLy0l5xOi9V/7wWvNQfjhrx7v7p+/+eqOhGh3zCHCLY+GnUYh5eHh+NLmkhP5TIjlpR5jpSrLpVZztrSUZ2kYhNiXs90z5FgAoKbn9ByoLN72bafCJtPzUeJeahGP4GlVzUas4WNe1tSj43N29iwbTuuLr/Xhuu+j6uIltzLYKOkP7LTgIkWCC0QxwdY4T4U2wGjHJhAQ2yFKqEpUvy31AKghJAAApeTzzhwao53A2X61u/5Ks4lplatHD+fJwfzp55MWtClFqgRRQMK22/TxUSkkpZExZZpvX1+bzucQKV7Jo9Npv+UHDp0j22A9O5u8m2Xv/eaeYOzWtc0HT49Qs1vks1JW25FvgGq3Aou6Fsm1Mqvr7Va0agNz/8FunhfAgKKobYoQBgjAkjGrFZIbgckLd6oAFFnKl7m7PytIApVIpRfieMw2Qj9swKwil6N2/enk9jsn/K32KzfapYZ5mpd5YVsOtsK4zMsygL6DqI0xBlC5rk8wPjweKyUXvrv/YGKklPzt1nKxWr/1+6uDPjj8cPTRs7pWYDzKec0lNz7Ro5RtvBQu3QwMxqpQnpTxTLW22xfWlhuh9fjeYbPZnI7mNoJGKUpdaVQuhDPPp6N8Nil31jrKiF6zM83qvKyZ1BdWW62laPf+wTkfHhxOgYEffnB3fal94erGJw+OpZTNKJynsVZQKwAtaADwdW2GMB6K/mY/0WNPBMMs7SOLHJ/OHAvsjmuZgZ0tv6rM4X6+tOm99XtLv/qTU5vhs5NMSjif581G4Gh6Ppthqw0IlhoQJV2HEuTYll1UNeM8L8ssyxa8/69aJAhfSIkL0cIYgxAAwtz/5fz0UVYUCnuQutQOHC9EoQ5gzKMlNytlaCNDQb/leMBXXP7o33x48+ZFXvF9NWz4Vsrklctbx+dTJsGrb1wUaRUn3Hfo977x0niW9nr+LE9G0+TahVVA8eHJuNLW1dX+Z0/HjWZwaWflNx/fPTg6r2omhbAtorSWUjNWE4IFq+OCBLW9esXLVdpcdYCNz09jATuonPJHtyuiB9Cy3/np6NNfxsWhqoaq5HqwFezfm09OlCy1Y9mWR85nBeNgFufH51MhTV7Udc3KmmVZWtU1gGY6j4XgEEJjlDF/ZXt6Mc39bRXo41+ODp6xGmG369mR63p2sxGtrHWtJrEcXI6UY+MgxBTbs7kGTuU0gTGwFQVS6NXVJeQEl7cH89nk6GS8sdMLIiwgYErZBDx+dtL2bV7q3YNkOk+iyCumiSmV5zlcijhNAATzJKeY+LYV+Q5EKC8qginGOPADy7LSLDuv+O75Ge0oI/l8VxWVrMO0fd0mF640Lmw3/tf/2R98frj38e3b9z8/syHY+2D6+LbWzBCX2IH94N5wa6NxlJQacBs7JReCcQS0MlpqAwQnnlMJrhRgtVhMeV/kssV2h8XbRYgBAAEwhJCw7Vo+iqcsGnis5PmoSE6L02OwuhS1LjutrmN5Rhk4P6w0MzVRWckb0NnYWrnx6s5HH+9KJWWNj0dJEHmuRQ8OkzLms3nRaQS+Zxc16Pfb89lnvXa0uTIo5iODiWXxew+Oj07nKyuDo8MhgLisJTIAAhjHmWPbRhuplOGm2WhYRkUEzJ9k/aVO2eDhnFLHee/9R+TWrU6/2ZvMHq51VLLjzVOsHBGocPeThE1kySpTqFbfLgqGKRUSygr5vtNp+JZlSaVrIS2IMSFcyGkc12zxHHbzQkz87RRmjAHGeJFXpNWgHfg2ErUUcT0VhmCguQQAYuHwFGZzvbLjACDSaT2a1h60sgMOiW4OkBDs4aPhX/zkw7/9+1+dTZLhvEKAhEBdv7L+i59+Ph5OdzY7XuCNZuUwOUnKutNwtla9mds+PZxVwqRMSWUGnfDRw1Ez9GvGhnHhuA6wLUJI1AySJMMQSaWW10DDVnNRauNh4pylaUcTOpGkMaAcyqP5XlHnH3yR5pVpRaHMwa1vNflU7d9Ow4BoCZ4+zFYH/oUrmxiEF7c3l3rNvaPRw92TPC8NQlypyXS+2ERptAEAGq1t27UtK80SCNFzZRFYtj3YaaQz6+qVJd/DTx/OXIdSaDpdfz5TGhifgKIsQ6fBhRCVPH6SUUJFVdeMB8YTXO7tnfx//+1vvvLShcCzZwh2Qm99uXN8OqrmcVGLTsMfdFt5nDT98EfvfH56PvrBt16q1Umvj84PCwO9p/unG8uNJ4+e+p6tGeMG+mH40ss3PvjNR1oprQUwACJkEAxW29fe6t/7+PDeXz7bWV0J/MbTu4dxXJFsl56x47TMDQYilU5NSQp9Ii5dCsBN09i0H31eOhkdbGBs8MWthutvdRvtB4+PHz09OhtNi7zABAnBKaWUYGPA19/YiQL6Z+88eOO1ixur/T/+n35CLQQBhAR7oauEhhTd+sryZj8qgVwBkXkEv/WVpTxl778/bm9bX/lOI57xoxHTJgBCDY8L37Ws2oQe6baDb751LVXg+s76N9+8WeTM96y+RQPDcqH+8sMnFzaX2lFYJtlmz50zoADsNsNbV3ZazV7DUkEfvX/7yWSaXtvsTcam03K/+ca1n39w36b+yf5hXdWu6xom4qTwPM9zvGQ/PpC5oer6raaU5vIrmzuvDkZxToQsW2270XMf3jvTxhIug7aqKvjgQba0Zt+46tkOefJhdr4732otN1q9dF5nuCwrFmdZkuRKCwvSPC9txy6r2hiwcanVXjf/xcVv9DpuWXLXcYUWEMBGt7F0oWmURg5wm3h4MpMYblykr15dWev4411Fv9l5OqkKCVJlXJeUo2K8XyoDpARKE1uDr7+00V/q/PIvPri1syoqbozmCtZpppfaZ2lOKZ1N44vr7TxJl5rRfFicDOevXV8jlsZSPt3f29662mwNrq0fKoDu7Y/WN5aLisVZDRCHEARBYNlWEsdB6GspOpFviukwBtj2ggCe7Y/FHXD9za3G/6+kO+uN6zoMAHzO3fc7c2fuzJDD4aYhOZRILZRsLZZlx04buK6TBoiLogXSl7Qoiv6cIg8tECRI2iJBgeTBdZ04sRvbshZLFi1R4i7OcDj73H3fzu1DfsX3+DE8Jm9yoirGFpoME5zIFzZkucabWrL9uXnvQ+3oa19/6YWRn3pZc7Gy1FiMo7C5vLQ2VyQpCsNIAKDnB0EYapr+p/T7fz467B+TBZlZWymOTp0fvv/6YqNGMgTJQgQzskzLKiHQOCmREQVsBxRrgu/FTAFUF7iwD8Juph2HEs8LFI3wjGJwlOZeEt2+udhaq+/sthWWudKsYBBVK4WcwKqqTPMUyfGvXllVS4Ig87zEPz7ojOyhyMKluUpbf/lN7zErV/2w05grl4t4SRXTNII5Otw9vnF+DhJQEHlJ5BVZwnGSZTk/iLTJCKis1CgHHohzLsYwQzce3nsUdyziq9/3MheN7KCkMJETxTYTJkkYJoU6Y3aDX/2kw7GEXCBkkScpPLKH5XKhqpbmyzeGLn1ry7778MXu3k4Q5BiG5yAvq9xifQ4k2OyaeDA4DflU5iOZF002AAiYA4/QwlQlJZ6ZrbEiBtQiF0EwjDJLz1gvYmhoHmJ1RSySme1n9WVFLfvWIFueLX/79lYWUTxlXFmtzFLB52chK/AcC4kEjScOjeOjkb5+bg4DEEPQSPIIczZaCoEDSmQy3CA5XXed9tOHvWOvqw9uXb+cp3Gew6nm1SplRWG0kY9yJMtyGAYYTmAEQVoYPEgrfGV1psHkTxmCQaIrUTlxuKtdPKeYNMwxwvcjYpL4Bgq1nKqA6prEqrw98H07xYg8TImQrrz7/TeJMElw9t034yx2aUH50Q8ufvrY+fTLB3Ml+E//0uIw8YOPTjXd7LezTtvVp5MoAJLIeaGfY5BhGJIgWQ5PvIiScMuMUyxxznyCJ6M8FUtws1munItwHn19L2BEWikL/Ax3/WqLLtQnPfNsZG1dXxpZkROllEwTE+A6wdQOnCjVDOftm82zvi7x1G47PxlYt19dLgpFzdDjHP/F3Qe2hsdBJkuCj5AsVsc9c31j7nf3969euznon3a6vaKi5H/yK88TBEi5sHCh9NZrb/OC1OzM/9tPfrl5daZ7YhCVksDPM/MRMRj5RB0keXT+Qqk30KxJNt9gAYHNLytOJ5n2Ii+IHj05yBPs9oW64bJJPpg68enZ5Dtvfe/qzUzi2QfffK6onMCwpmvvb6exl3WPHY7lKS5jJJLK8NBJuAJcu1wsz9CjM59LmOosPTx1MISsTogyiMeEYRlyTBtnPppKikg51vjSVjPHyE8+edRs1DKU9Xywd2S8cn21VJH3nr1MMWg4ge4EF87NjKfOk+cn85uEU+7FTlAUFZRC3/R1I3382CkXqM01tVmvBSmBg0wzvRY/w7H09jdPQY5wkoz8EME8z/M0TYIQDzLIS+Kgr0kq5kVIUYrt43Hs5QQn4idjX51jzX4G4wywkC0kV+/I1mm2yhNQynWA78JIqbIBZts2dXz6FSU+T71SnKQ//Y/PDg71v33/WyLw33j92vOjk//616NrF1cyjyDmY7XOr3nFcT+1fD9wQ1omZ1a4mkoWcay7Y0scH3vYi6HhhDENCYrFdS0qUJhlJMNTkonokhjhDmrVGpVqMQjCwAvPBtpoZECUFiRKqUgcJ3KiYAw114/m5oRqnem0ezzN+T3omzhbA/vjTg1VGg3IzCZbQUmmuCtbIggiEaobazWU5l8/6eoWCgONpimlVDam0yxHAGAVtWzbTuBnjZnNLIwe7twNGWPpmsJlsjVGxChIwwzXjz2I4dOjuLVK6pNYigsB1GuKcNa2MBexFvSy+Nwrxffv/Nnh3gmeOjwfhEHZsujmnPzvP/ux45RmZ5QbVxZP9nfUGti4CY52/NW31FIxOnwx9PMIw7HYT0M/9i10PIisBLEySdG4rydhAMZ2kOYJweKcQA1QvH/gFgUMBQnA4KtF/LUC1+7ok5E5GLo3ttbKlbIZuKOBkUP6d3efdY57f//OTaegv4x2r126+ekfn49N4GjkhfMrZG6dZftTh+vbJn8ep7p0/zjvGkEY7Dje8dp6M+eEd99ZfbL/8t6Xj3EI1EopjCPPcniKGniBFwaf3fuYo8hEcu3YC5NMyBnL9IncR2qFjXHAcWRw6OJ9tL9vULK40VyABMfKQC3nIWtHASjwAGD8UnM9979AEf3LDz9bXgZvfLvVPkKDqX1hRVCFWM9IaYZcLMg0TcduOugkGQIUg13bnDs405M8DREeZxiCyalpkQhmZOY6WZYCJ4hrZcbDE6pEMhiOAqAbQeajelklIOFa4Rs3z+8cDm7euhpF3khzbafz9Hn3YOfwvdsX7rx5+fftey+7/daKIamlk2fdsWb+VWO9H/R3HA2GdDzBRQ/U56DR19JQGI7NcLVEiSpJnF1sVeKc2Nl+EvoexbBRlCgSF0UhhoEkiI53J7FnCiskv8iFfmz7sTmyiCoH2g+NDKeXL7NXb5V271vjcRL2plxKCa/mQpHniGyhRKaA2t8bP7j/i9ZKWeayhkrfvlFBbLK9M/zH9/9h/p8zXeN+9Z+/bu+YL1LzJPVaW/hXH01edu0sz69dUd/7i+rPP/ASmixLVD8I9IFXaTJxls8XheamejCanI6jLMkyCq22GJAzw7Ybs/zFlnrt0qKpGWUWI3n2wmKtrCq//s2jZy8Gb944Hxju21vnfvTD74W0cNru5iT49MkfOeu8XBSdiW6PfSMtsC4eeUmiYZwim3TKyDyfQH5K0RQ8057arvHjnx7OltW/+/5bP//vT/Sp5gTBQmtpMDFkUZ5MdQDLAs5mephJoe8lKMbCEBEhoAQB913IE4DNKNfCvIhgKMwF9iTKLRNcWC9GXVAs4cvN4lQKhJlAqREUnO4dWvrY++3/ti+17lsuvbOtjTrdJZ7MLa/apHEajnXbsBwIAUpKT/amuu4vnCtOh641SWmBrM6IW6swNwAjJk2BddzEcpCqijIlIpSakOJzYnNRtXQ3ttPAjjR/dOHype2H2/2hJgoszxJz6szqe3dML/j8s6cgIHiGFDmygskHRwdvbM2FOeRylbGgADAr1niGw3UUkA5DsOebjZOO0ZRSRWFTIt7YIAlMAJBmeTyIE98N/SAGEBQKchTHxQbdWI++vm9p44QmYEzEhKVHcolausQlNtp/Gi7OiixGcjzW2oIUH6nKrAZiRLsJygoKHZkVNFb0yIMF/+NPusuL3Nt3GtPx4SOPbT8bY1nGnSNXNwth0T0xzUuvc72BJ6lkdZ54/sz2NWhTkWtk9XlKqPALdRITwTQGdJSM+kHuJJcusTGbE1SiTWMhk1oXZzcuNn1d50ulHLGDvaHvuKZprS6ofc04Ohlfv9yq1WsfffDx893jek0lqLQzHo/3e1c2YP2VZO/e2eAkIxm2VhWOhlOeh/g5O9diKZApUWp3uhfZMhLwBU68f3dq+18SBPDdmKGooeEAiIsCnaQZL4gsEzqea55lpuZyElOt0ESpzGUhMF/GyMNJFnFFYkOc1Sd61I+YNeAIMYVBWGApnOm3vbufD7/z+i0mlIZ7fmZASmUmyBt9Ea4vL0o1sqDibJEhFehYEcTilXrhr/+G8Sy8LJLYcoyh3LaDjAIAByDJICR8Fyk8BQJQEkjlFqPr3AwvE2YSeMFms7RU5uIEhRGF4f2IR5AESRqxOFioKW4S/eGLw/n5udFYiwDww6RSKlNhrA8Dx3R9K/cyZ/EO4qrCyyf5VLdLLIanoHeS0qsB5VidXZ9fiCOKxhD76HkfGyNAZmmWeq5L02QUJzkCc/XSWHdQnlGEao4RxfjnV4tSicFJAoMZ1u3ZjouVliFVjDXdDwKfZJCscspiY31NmBOp/on36YM2FnJEkp8OJwhiIMquXVG29wbNpmQl7m7/eLYllHmZSOH+wRkZcdWgsP+VoR8g68jnROnt7zbPjPBM8209Ds7i2MMPd/3+ibv/wnSH8crF/K13yO++sb5SL7KUfaGa0qTFsLHW754Mnz5+etA7OfV1zZ+ONq+ucxUxB5HIg9lq2bMDQght16wVhQZTyU1hpz9mkdr+v/LXH4IMRTn0nu21F+vqyM9P97PpNhlgLlvILhdaTpt9+AejvZ/4cZogRNEMxZAYhBRFYiSxf9DmSAZkIIpTo58VlFJps4IVKMeJifMN1p4ECZkQJRYPxJUWpZ3GOEP1cmzcdpYBrXdsROeml2pecv3q4vOjEUDRX/45tSTwN3+w8ZufdcbdrL6AP/jtUCI5mKDCErzWqJyYQ2WZdrr5+mxVLMNHd3ulWVlUIG0nAsACPSrW8cxL7IBQ6SQDeRYqceKMnc6rrwkz0iuT6aOn3xxzkzkP5c+39etzsxQGFVmKoygM9MlU58XQgR0eP8Xn9zZv0Z6mhVkEZ9wmDTPJtftYt5cWUDmLbNt1NTccGAHPk1WyMiMmXajjsLRYgl/ef0kQBKCFxkJN8OI4jseDAcNyOEHyvADyXDMNQRSqtZqp64GRBgnK0vT/AUq2bdCn38+7AAAAAElFTkSuQmCC\n",
                "text/plain": "<PIL.Image.Image image mode=RGB size=102x128 at 0x7F168DB85780>"
              }
            ],
            "_view_module": "@jupyter-widgets/output",
            "_model_module_version": "1.0.0",
            "_view_count": null,
            "_view_module_version": "1.0.0",
            "layout": "IPY_MODEL_261a495f1fd1446695a145bc52526c14",
            "_model_module": "@jupyter-widgets/output"
          }
        },
        "66fa2d8b4e3e49d29d1468c28b76f639": {
          "model_module": "@jupyter-widgets/controls",
          "model_name": "LabelModel",
          "state": {
            "_view_name": "LabelView",
            "style": "IPY_MODEL_435560658b754d638e0015ac5910cbc5",
            "_dom_classes": [],
            "description": "",
            "_model_name": "LabelModel",
            "placeholder": "​",
            "_view_module": "@jupyter-widgets/controls",
            "_model_module_version": "1.5.0",
            "value": "Prediction: vaca; Probability: 1.0000",
            "_view_count": null,
            "_view_module_version": "1.5.0",
            "description_tooltip": null,
            "_model_module": "@jupyter-widgets/controls",
            "layout": "IPY_MODEL_33034d44f5174f88a6047bae552d3238"
          }
        },
        "ee41b422d9d1458f9744bc86c8c2b530": {
          "model_module": "@jupyter-widgets/controls",
          "model_name": "DescriptionStyleModel",
          "state": {
            "_view_name": "StyleView",
            "_model_name": "DescriptionStyleModel",
            "description_width": "",
            "_view_module": "@jupyter-widgets/base",
            "_model_module_version": "1.5.0",
            "_view_count": null,
            "_view_module_version": "1.2.0",
            "_model_module": "@jupyter-widgets/controls"
          }
        },
        "1ec292a0f5274973847b14307df51686": {
          "model_module": "@jupyter-widgets/base",
          "model_name": "LayoutModel",
          "state": {
            "_view_name": "LayoutView",
            "grid_template_rows": null,
            "right": null,
            "justify_content": null,
            "_view_module": "@jupyter-widgets/base",
            "overflow": null,
            "_model_module_version": "1.2.0",
            "_view_count": null,
            "flex_flow": null,
            "width": null,
            "min_width": null,
            "border": null,
            "align_items": null,
            "bottom": null,
            "_model_module": "@jupyter-widgets/base",
            "top": null,
            "grid_column": null,
            "overflow_y": null,
            "overflow_x": null,
            "grid_auto_flow": null,
            "grid_area": null,
            "grid_template_columns": null,
            "flex": null,
            "_model_name": "LayoutModel",
            "justify_items": null,
            "grid_row": null,
            "max_height": null,
            "align_content": null,
            "visibility": null,
            "align_self": null,
            "height": null,
            "min_height": null,
            "padding": null,
            "grid_auto_rows": null,
            "grid_gap": null,
            "max_width": null,
            "order": null,
            "_view_module_version": "1.2.0",
            "grid_template_areas": null,
            "object_position": null,
            "object_fit": null,
            "grid_auto_columns": null,
            "margin": null,
            "display": null,
            "left": null
          }
        },
        "05e68b9ad6234f43b7a33a0d3b955893": {
          "model_module": "@jupyter-widgets/controls",
          "model_name": "ButtonStyleModel",
          "state": {
            "_view_name": "StyleView",
            "_model_name": "ButtonStyleModel",
            "_view_module": "@jupyter-widgets/base",
            "_model_module_version": "1.5.0",
            "_view_count": null,
            "button_color": null,
            "font_weight": "",
            "_view_module_version": "1.2.0",
            "_model_module": "@jupyter-widgets/controls"
          }
        },
        "1dd31eb3b0b54d8fbce04a59f360b3af": {
          "model_module": "@jupyter-widgets/base",
          "model_name": "LayoutModel",
          "state": {
            "_view_name": "LayoutView",
            "grid_template_rows": null,
            "right": null,
            "justify_content": null,
            "_view_module": "@jupyter-widgets/base",
            "overflow": null,
            "_model_module_version": "1.2.0",
            "_view_count": null,
            "flex_flow": null,
            "width": null,
            "min_width": null,
            "border": null,
            "align_items": null,
            "bottom": null,
            "_model_module": "@jupyter-widgets/base",
            "top": null,
            "grid_column": null,
            "overflow_y": null,
            "overflow_x": null,
            "grid_auto_flow": null,
            "grid_area": null,
            "grid_template_columns": null,
            "flex": null,
            "_model_name": "LayoutModel",
            "justify_items": null,
            "grid_row": null,
            "max_height": null,
            "align_content": null,
            "visibility": null,
            "align_self": null,
            "height": null,
            "min_height": null,
            "padding": null,
            "grid_auto_rows": null,
            "grid_gap": null,
            "max_width": null,
            "order": null,
            "_view_module_version": "1.2.0",
            "grid_template_areas": null,
            "object_position": null,
            "object_fit": null,
            "grid_auto_columns": null,
            "margin": null,
            "display": null,
            "left": null
          }
        },
        "435560658b754d638e0015ac5910cbc5": {
          "model_module": "@jupyter-widgets/controls",
          "model_name": "DescriptionStyleModel",
          "state": {
            "_view_name": "StyleView",
            "_model_name": "DescriptionStyleModel",
            "description_width": "",
            "_view_module": "@jupyter-widgets/base",
            "_model_module_version": "1.5.0",
            "_view_count": null,
            "_view_module_version": "1.2.0",
            "_model_module": "@jupyter-widgets/controls"
          }
        },
        "33034d44f5174f88a6047bae552d3238": {
          "model_module": "@jupyter-widgets/base",
          "model_name": "LayoutModel",
          "state": {
            "_view_name": "LayoutView",
            "grid_template_rows": null,
            "right": null,
            "justify_content": null,
            "_view_module": "@jupyter-widgets/base",
            "overflow": null,
            "_model_module_version": "1.2.0",
            "_view_count": null,
            "flex_flow": null,
            "width": null,
            "min_width": null,
            "border": null,
            "align_items": null,
            "bottom": null,
            "_model_module": "@jupyter-widgets/base",
            "top": null,
            "grid_column": null,
            "overflow_y": null,
            "overflow_x": null,
            "grid_auto_flow": null,
            "grid_area": null,
            "grid_template_columns": null,
            "flex": null,
            "_model_name": "LayoutModel",
            "justify_items": null,
            "grid_row": null,
            "max_height": null,
            "align_content": null,
            "visibility": null,
            "align_self": null,
            "height": null,
            "min_height": null,
            "padding": null,
            "grid_auto_rows": null,
            "grid_gap": null,
            "max_width": null,
            "order": null,
            "_view_module_version": "1.2.0",
            "grid_template_areas": null,
            "object_position": null,
            "object_fit": null,
            "grid_auto_columns": null,
            "margin": null,
            "display": null,
            "left": null
          }
        },
        "261a495f1fd1446695a145bc52526c14": {
          "model_module": "@jupyter-widgets/base",
          "model_name": "LayoutModel",
          "state": {
            "_view_name": "LayoutView",
            "grid_template_rows": null,
            "right": null,
            "justify_content": null,
            "_view_module": "@jupyter-widgets/base",
            "overflow": null,
            "_model_module_version": "1.2.0",
            "_view_count": null,
            "flex_flow": null,
            "width": null,
            "min_width": null,
            "border": null,
            "align_items": null,
            "bottom": null,
            "_model_module": "@jupyter-widgets/base",
            "top": null,
            "grid_column": null,
            "overflow_y": null,
            "overflow_x": null,
            "grid_auto_flow": null,
            "grid_area": null,
            "grid_template_columns": null,
            "flex": null,
            "_model_name": "LayoutModel",
            "justify_items": null,
            "grid_row": null,
            "max_height": null,
            "align_content": null,
            "visibility": null,
            "align_self": null,
            "height": null,
            "min_height": null,
            "padding": null,
            "grid_auto_rows": null,
            "grid_gap": null,
            "max_width": null,
            "order": null,
            "_view_module_version": "1.2.0",
            "grid_template_areas": null,
            "object_position": null,
            "object_fit": null,
            "grid_auto_columns": null,
            "margin": null,
            "display": null,
            "left": null
          }
        }
      }
    }
  },
  "cells": [
    {
      "cell_type": "markdown",
      "metadata": {
        "id": "view-in-github",
        "colab_type": "text"
      },
      "source": [
        "<a href=\"https://colab.research.google.com/github/lilivc16/spotted-animals-classifier/blob/master/spotted_animal_classifer.ipynb\" target=\"_parent\"><img src=\"https://colab.research.google.com/assets/colab-badge.svg\" alt=\"Open In Colab\"/></a>"
      ]
    },
    {
      "cell_type": "code",
      "metadata": {
        "id": "w_roAoj_Hx8-"
      },
      "source": [
        "#hide\n",
        "from fastai.vision.all import *\n",
        "from ipywidgets import widgets \n",
        "from fastai.vision.widgets import *"
      ],
      "execution_count": 16,
      "outputs": []
    },
    {
      "cell_type": "code",
      "metadata": {
        "id": "5CHzxIdaHjRF"
      },
      "source": [
        "#hide\n",
        "path = Path()\n",
        "# path.ls(file_exts='.pkl')"
      ],
      "execution_count": 17,
      "outputs": []
    },
    {
      "cell_type": "code",
      "metadata": {
        "id": "GpCiRCBSHs-X"
      },
      "source": [
        "learn_inf = load_learner(path/'export.pkl', cpu=True)"
      ],
      "execution_count": 19,
      "outputs": []
    },
    {
      "cell_type": "markdown",
      "metadata": {
        "id": "fRZwK_BiH2yF"
      },
      "source": [
        "\n",
        "## **Is it a cow or is it a dalmatian?**\n",
        "\n",
        "Upload a photo of a cow or a dalmatian and yhis application will tell you which animal is it."
      ]
    },
    {
      "cell_type": "code",
      "metadata": {
        "id": "GjIO2rAVIWM0"
      },
      "source": [
        "btn_upload = widgets.FileUpload()\n",
        "out_pl = widgets.Output()\n",
        "lbl_pred = widgets.Label()"
      ],
      "execution_count": 20,
      "outputs": []
    },
    {
      "cell_type": "code",
      "metadata": {
        "id": "xpZTgdstJPPt"
      },
      "source": [
        "def on_click(change):\n",
        "    img = PILImage.create(btn_upload.data[-1])\n",
        "    out_pl.clear_output()\n",
        "    with out_pl: display(img.to_thumb(128,128))\n",
        "    pred,pred_idx,probs = learn.predict(img)\n",
        "    lbl_pred.value = f'Prediction: {pred}; Probability: {probs[pred_idx]:.04f}'"
      ],
      "execution_count": 13,
      "outputs": []
    },
    {
      "cell_type": "code",
      "metadata": {
        "id": "nHW5zFAiJ_tS"
      },
      "source": [
        "btn_upload.observe(on_click, names=['data'])"
      ],
      "execution_count": 14,
      "outputs": []
    },
    {
      "cell_type": "code",
      "metadata": {
        "id": "smnKQ_H0KEAk",
        "outputId": "3775828a-310a-4436-c166-d6654d629c49",
        "colab": {
          "base_uri": "https://localhost:8080/",
          "height": 241,
          "referenced_widgets": [
            "ed813e30823d4df688147ec7db775a04",
            "52ef7443fd83436ab9cef586cfff9456",
            "142621fe4dbe4856871569f565704a48",
            "78d70a99fe1041bda57d533d71071802",
            "ad0440026e7540979579821a10b85c52",
            "66fa2d8b4e3e49d29d1468c28b76f639",
            "ee41b422d9d1458f9744bc86c8c2b530",
            "1ec292a0f5274973847b14307df51686",
            "05e68b9ad6234f43b7a33a0d3b955893",
            "1dd31eb3b0b54d8fbce04a59f360b3af",
            "435560658b754d638e0015ac5910cbc5",
            "33034d44f5174f88a6047bae552d3238",
            "261a495f1fd1446695a145bc52526c14"
          ]
        }
      },
      "source": [
        "display(VBox([widgets.Label('Select a photo!'), btn_upload, out_pl, lbl_pred]))"
      ],
      "execution_count": 15,
      "outputs": [
        {
          "output_type": "display_data",
          "data": {
            "application/vnd.jupyter.widget-view+json": {
              "model_id": "ed813e30823d4df688147ec7db775a04",
              "version_minor": 0,
              "version_major": 2
            },
            "text/plain": [
              "VBox(children=(Label(value='Select a photo!'), FileUpload(value={}, description='Upload'), Output(), Label(val…"
            ]
          },
          "metadata": {
            "tags": []
          }
        },
        {
          "output_type": "display_data",
          "data": {
            "text/html": [
              ""
            ],
            "text/plain": [
              "<IPython.core.display.HTML object>"
            ]
          },
          "metadata": {
            "tags": []
          }
        }
      ]
    },
    {
      "cell_type": "code",
      "metadata": {
        "id": "3xigVGVeKGrJ"
      },
      "source": [
        ""
      ],
      "execution_count": null,
      "outputs": []
    }
  ]
}